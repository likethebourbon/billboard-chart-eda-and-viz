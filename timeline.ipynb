{
 "cells": [
  {
   "cell_type": "code",
   "execution_count": 2,
   "metadata": {},
   "outputs": [
    {
     "data": {
      "text/html": [
       "<script type=\"text/javascript\">window.PlotlyConfig = {MathJaxConfig: 'local'};</script><script type=\"text/javascript\">if (window.MathJax) {MathJax.Hub.Config({SVG: {font: \"STIX-Web\"}});}</script><script>requirejs.config({paths: { 'plotly': ['https://cdn.plot.ly/plotly-latest.min']},});if(!window._Plotly) {require(['plotly'],function(plotly) {window._Plotly=plotly;});}</script>"
      ],
      "text/vnd.plotly.v1+html": [
       "<script type=\"text/javascript\">window.PlotlyConfig = {MathJaxConfig: 'local'};</script><script type=\"text/javascript\">if (window.MathJax) {MathJax.Hub.Config({SVG: {font: \"STIX-Web\"}});}</script><script>requirejs.config({paths: { 'plotly': ['https://cdn.plot.ly/plotly-latest.min']},});if(!window._Plotly) {require(['plotly'],function(plotly) {window._Plotly=plotly;});}</script>"
      ]
     },
     "metadata": {},
     "output_type": "display_data"
    }
   ],
   "source": [
    "import pandas as pd\n",
    "import numpy as np\n",
    "import qgrid\n",
    "import ipywidgets as widgets\n",
    "import plotly\n",
    "import plotly.graph_objs as go\n",
    "from plotly.offline import download_plotlyjs, init_notebook_mode, plot, iplot\n",
    "import plotly.figure_factory as ff\n",
    "import plotly.io as pio\n",
    "init_notebook_mode(connected=True)"
   ]
  },
  {
   "cell_type": "code",
   "execution_count": 34,
   "metadata": {},
   "outputs": [],
   "source": [
    "df = pd.read_excel('show data.xlsx')\n",
    "df = df.iloc[:, :4]\n",
    "df.columns = ['Task', 'Start', 'Finish', 'Status']\n",
    "df = df.sort_values(by='Start', ascending=False).reset_index(drop=True)\n",
    "df.dropna(inplace=True)"
   ]
  },
  {
   "cell_type": "code",
   "execution_count": 40,
   "metadata": {},
   "outputs": [],
   "source": [
    "colors = {'Canceled': 'rgb(153,25,94)', 'Still Running': 'rgb(239,95,167)'}\n",
    "\n",
    "line_color = 'rgb(22, 77, 128)'\n",
    "\n",
    "fig = ff.create_gantt(\n",
    "    df, \n",
    "#     index_col = 'Status',\n",
    "    colors = 'rgb(153,25,94)',\n",
    "    show_colorbar = True,\n",
    "    showgrid_x = True, \n",
    "    showgrid_y = True, \n",
    "    bar_width = 0.4,\n",
    "    title='TV Shows Set in the 1980s'\n",
    ")\n",
    "\n",
    "layout = go.Layout(\n",
    "    autosize=False,\n",
    "    width=1000,\n",
    "    paper_bgcolor='rgba(0,0,0,0)',\n",
    "    plot_bgcolor='rgba(0,0,0,0)',\n",
    "    font=dict(\n",
    "        color='black'\n",
    "    ),\n",
    "    yaxis=go.layout.YAxis(\n",
    "        automargin=True,\n",
    "        linecolor=line_color,\n",
    "        gridcolor=line_color,\n",
    "        side='right',\n",
    "        showline=False,\n",
    "        zeroline=False,\n",
    "        tickfont=dict(\n",
    "            family='Trebuchet MS',\n",
    "            color='black'\n",
    "        )\n",
    "    ),\n",
    "    xaxis=go.layout.XAxis(\n",
    "        linecolor=line_color,\n",
    "        zeroline=False,\n",
    "        gridcolor=line_color,\n",
    "        tickfont=dict(\n",
    "            family='Trebuchet MS',\n",
    "            size=20,\n",
    "            color='black'\n",
    "        )\n",
    "    )\n",
    ")\n",
    "fig.layout.xaxis.rangeselector={}\n",
    "fig['layout'].update(layout)\n",
    "\n",
    "marker = dict(color = 'rgba(0, 0, 0, 0)')\n",
    "for i in fig['data']:\n",
    "    i.update(marker = marker)\n",
    "# iplot(fig)\n",
    "pio.write_image(fig, '80s_shows.svg')\n"
   ]
  },
  {
   "cell_type": "code",
   "execution_count": null,
   "metadata": {},
   "outputs": [],
   "source": []
  }
 ],
 "metadata": {
  "kernelspec": {
   "display_name": "Python 3",
   "language": "python",
   "name": "python3"
  },
  "language_info": {
   "codemirror_mode": {
    "name": "ipython",
    "version": 3
   },
   "file_extension": ".py",
   "mimetype": "text/x-python",
   "name": "python",
   "nbconvert_exporter": "python",
   "pygments_lexer": "ipython3",
   "version": "3.7.2"
  }
 },
 "nbformat": 4,
 "nbformat_minor": 2
}

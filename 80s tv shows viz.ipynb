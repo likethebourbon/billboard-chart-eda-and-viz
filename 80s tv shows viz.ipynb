{
 "cells": [
  {
   "cell_type": "code",
   "execution_count": 1,
   "metadata": {},
   "outputs": [
    {
     "data": {
      "text/html": [
       "<script type=\"text/javascript\">window.PlotlyConfig = {MathJaxConfig: 'local'};</script><script type=\"text/javascript\">if (window.MathJax) {MathJax.Hub.Config({SVG: {font: \"STIX-Web\"}});}</script><script>requirejs.config({paths: { 'plotly': ['https://cdn.plot.ly/plotly-latest.min']},});if(!window._Plotly) {require(['plotly'],function(plotly) {window._Plotly=plotly;});}</script>"
      ],
      "text/vnd.plotly.v1+html": [
       "<script type=\"text/javascript\">window.PlotlyConfig = {MathJaxConfig: 'local'};</script><script type=\"text/javascript\">if (window.MathJax) {MathJax.Hub.Config({SVG: {font: \"STIX-Web\"}});}</script><script>requirejs.config({paths: { 'plotly': ['https://cdn.plot.ly/plotly-latest.min']},});if(!window._Plotly) {require(['plotly'],function(plotly) {window._Plotly=plotly;});}</script>"
      ]
     },
     "metadata": {},
     "output_type": "display_data"
    },
    {
     "data": {
      "text/plain": [
       "'3.7.1'"
      ]
     },
     "execution_count": 1,
     "metadata": {},
     "output_type": "execute_result"
    }
   ],
   "source": [
    "import pandas as pd\n",
    "import numpy as np\n",
    "from random import randint, random\n",
    "import colorlover as cl\n",
    "import plotly\n",
    "import plotly.graph_objs as go\n",
    "from plotly.offline import download_plotlyjs, init_notebook_mode, plot, iplot\n",
    "init_notebook_mode(connected=True)\n",
    "%load_ext autoreload\n",
    "%autoreload 2\n",
    "plotly.__version__"
   ]
  },
  {
   "cell_type": "code",
   "execution_count": 2,
   "metadata": {},
   "outputs": [],
   "source": [
    "df = pd.DataFrame()\n",
    "for show in 'stranger things', 'goldbergs', 'glow':\n",
    "    for season in ' s1', ' s2':\n",
    "        dx = pd.read_excel('show data highlights.xlsx', sheet_name=f'{show}{season}')\n",
    "        dx['show'] = f'{show}'\n",
    "        df = df.append(dx, sort=False, ignore_index=True)\n",
    "\n",
    "# df.dropna(subset = ['First_week', 'Highest_rank'], inplace=True)\n",
    "df.fillna({'Highest_rank': 101}, inplace=True)\n",
    "df['text'] = df.Artist + ': ' + df.Title\n",
    "df.dropna(subset=['year'], inplace=True)\n",
    "df.year = df.year.astype(int)\n",
    "\n",
    "# disabling this for 2d contour maps\n",
    "# df.year = df.year.apply(lambda x: x + (random())*.3)"
   ]
  },
  {
   "cell_type": "code",
   "execution_count": 476,
   "metadata": {},
   "outputs": [
    {
     "name": "stdout",
     "output_type": "stream",
     "text": [
      "This is the format of your plot grid:\n",
      "[ (1,1) x1,y1 ]\n",
      "[ (2,1) x1,y2 ]\n",
      "[ (3,1) x1,y3 ]\n",
      "\n"
     ]
    }
   ],
   "source": [
    "# colors_list = ['rgb(129,247,96)', 'rgb(60,114,44)', 'rgb(255,240,30)', \n",
    "#                'rgb(160,150,20)', 'rgb(255,30,240)', 'rgb(140,20,140)', \n",
    "#                'rgb(7,65,255)', 'rgb(10,40,150)']\n",
    "\n",
    "colors_list = ['rgb(129,247,96)', 'rgb(255,240,30)', 'rgb(255,30,240)']\n",
    "\n",
    "line_color = 'rgb(22,77,128)'\n",
    "\n",
    "traces_list = []\n",
    "\n",
    "# create a trace for each tv show\n",
    "for i, show in enumerate(df['show'].unique()):\n",
    "    dx = df[df['show']==show].drop_duplicates('text')\n",
    "    artist = dx.Artist\n",
    "    title = dx.Title\n",
    "    trace = go.Scatter(\n",
    "        x = dx.year,\n",
    "        y = dx.Highest_rank,\n",
    "        name = show.title(),\n",
    "        mode = 'markers',\n",
    "        text = df.loc[df['show']==show, 'text'],\n",
    "        hoverlabel = dict(namelength = 50),\n",
    "        marker = dict(\n",
    "            size = 10,\n",
    "            sizemode = 'area',\n",
    "            color = colors_list[i],\n",
    "            opacity = .6,\n",
    "            line = dict(\n",
    "                color = 'black',\n",
    "                width = 1\n",
    "            )\n",
    "        )\n",
    "    )\n",
    "    traces_list.append(trace)\n",
    "\n",
    "# set the layout settings\n",
    "layout = go.Layout(\n",
    "    title = go.layout.Title(\n",
    "        text = 'Billboard Hot-100 Songs by Show',\n",
    "    ),\n",
    "    paper_bgcolor='rgba(0,0,0,0)',\n",
    "    plot_bgcolor='rgba(0,0,0,0)',\n",
    "    font=dict(\n",
    "        color='white'\n",
    "    ),\n",
    "    xaxis = dict(\n",
    "        title = go.layout.xaxis.Title(\n",
    "            text = 'Release Year'\n",
    "        ),\n",
    "        gridcolor=line_color,\n",
    "        zeroline = False,\n",
    "        showline = False,\n",
    "        tickfont=dict(family='Trebuchet MS', size=20, color='white')\n",
    "    ),\n",
    "    yaxis = dict(\n",
    "        title = go.layout.yaxis.Title(\n",
    "            text = 'Peak Chart Rank'\n",
    "        ),\n",
    "        autorange = 'reversed',\n",
    "        gridcolor=line_color,\n",
    "        linecolor=line_color,\n",
    "        zeroline = False,\n",
    "        tickfont=dict(\n",
    "            family='Trebuchet MS',\n",
    "            color='white'\n",
    "        )\n",
    "    ),\n",
    ")\n",
    "\n",
    "# create subplots\n",
    "fig = plotly.tools.make_subplots(rows=3, cols=1, shared_xaxes=True, shared_yaxes=True, vertical_spacing=0.1)\n",
    "\n",
    "# add traces to subplots\n",
    "for i, trace in enumerate(traces_list):\n",
    "    fig.append_trace(trace, i+1, 1)\n",
    "\n",
    "# template for each subplot's y-axis\n",
    "ytemplate = dict(\n",
    "    range=[117, -8],\n",
    "    gridcolor=line_color,\n",
    "    linecolor=line_color,\n",
    "    zeroline = False,\n",
    "    tickvals = [101, 50, 1],\n",
    "    ticktext = ['Did not chart', '#50', '#1'],\n",
    "    tickfont=dict(\n",
    "        family='Trebuchet MS',color='white'\n",
    "    )\n",
    ")\n",
    "\n",
    "# template for each subplot's x-axis\n",
    "xtemplate = dict(\n",
    "    tickfont=dict(\n",
    "        family='Trebuchet MS',\n",
    "        size=20,\n",
    "        color='white'\n",
    "    )\n",
    ")\n",
    "\n",
    "# update each subplot's axes with the templates above\n",
    "fig['layout'].update(height=600, width=800, \n",
    "                     yaxis=ytemplate, \n",
    "                     yaxis2=ytemplate, \n",
    "                     yaxis3=ytemplate,\n",
    "                     xaxis=xtemplate,\n",
    "                     xaxis2=xtemplate,\n",
    "                     xaxis3=xtemplate,\n",
    "                     legend=dict(font=dict(color='white')),\n",
    "                     paper_bgcolor = 'rgba(0,0,0,0)', \n",
    "                     plot_bgcolor = 'rgba(0,0,0,0)'\n",
    "                    )\n",
    "\n",
    "# fig = go.Figure(data=traces_list, layout=layout)\n",
    "# iplot(fig)\n",
    "# plot(fig, filename='3 show chart.svg')\n",
    "\n",
    "import plotly.io as pio\n",
    "pio.write_image(fig, '3_show_chart.svg')"
   ]
  },
  {
   "cell_type": "code",
   "execution_count": 5,
   "metadata": {},
   "outputs": [
    {
     "data": {
      "text/plain": [
       "'file://C:\\\\Users\\\\ew648\\\\Documents\\\\GitHub\\\\billboard scrape\\\\hist2dcontour.html'"
      ]
     },
     "execution_count": 5,
     "metadata": {},
     "output_type": "execute_result"
    }
   ],
   "source": [
    "contour_list = []\n",
    "\n",
    "scl = cl.scales['9']['seq']['BuPu']\n",
    "colorscale = [ [ float(i)/float(len(scl)-1), scl[i] ] for i in range(len(scl)) ]\n",
    "colorscale\n",
    "\n",
    "# initialize the figure and set the layout settings that each trace will follow\n",
    "figure = {\n",
    "    'data': [],\n",
    "    'layout': {\n",
    "        'autosize': False,\n",
    "        'width': 1200,\n",
    "        'height': 600,\n",
    "        'title': 'Hot-100 Song Use in TV Shows',\n",
    "        'xaxis': {\n",
    "            'title': 'Year of Release'\n",
    "        },\n",
    "        'yaxis': {\n",
    "            'range': [105, 1],\n",
    "            'tickvals': [101, 81, 61, 41, 21, 1],\n",
    "            'ticktext': ['Did not chart', '#81', '#61', '#41', '#21', '#1'],\n",
    "            'automargin': True,\n",
    "            'title': 'Peak Chart Rank'\n",
    "        }\n",
    "    },\n",
    "    'frames': []\n",
    "}\n",
    "\n",
    "# set slider settings\n",
    "figure['layout']['sliders'] = {\n",
    "    'args': [ [None],\n",
    "        'transition', {\n",
    "            'duration': 0,\n",
    "            'easing': 'cubic-in-out'\n",
    "        }\n",
    "    ],\n",
    "    'initialValue': 'Stranger Things',\n",
    "    'plotlycommand': 'animate',\n",
    "    'values': df.show.unique(),\n",
    "    'visible': True\n",
    "}\n",
    "\n",
    "# make play and pause buttons\n",
    "figure['layout']['updatemenus'] = [\n",
    "    {\n",
    "        'buttons': [\n",
    "            {\n",
    "                'args': [None, {'frame': {'duration': 1600, 'redraw': True},\n",
    "                         'fromcurrent': True, 'transition': {'duration': 0, 'easing': 'quadratic-in-out'}}],\n",
    "                'label': 'Play',\n",
    "                'method': 'animate'\n",
    "            },\n",
    "            {\n",
    "                'args': [[None], {'frame': {'duration': 0, 'redraw': True}, 'mode': 'immediate',\n",
    "                'transition': {'duration': 0}}],\n",
    "                'label': 'Pause',\n",
    "                'method': 'animate'\n",
    "            }\n",
    "        ],\n",
    "        'direction': 'left',\n",
    "        'pad': {'r': 10, 't': 87},\n",
    "        'showactive': False,\n",
    "        'type': 'buttons',\n",
    "        'x': 0.1,\n",
    "        'xanchor': 'right',\n",
    "        'y': 0,\n",
    "        'yanchor': 'top'\n",
    "    }\n",
    "]\n",
    "\n",
    "# set slider settings\n",
    "sliders_dict = {\n",
    "    'active': 0,\n",
    "    'yanchor': 'top',\n",
    "    'xanchor': 'left',\n",
    "    'currentvalue': {\n",
    "        'font': {'size': 20},\n",
    "        'prefix': 'Show: ',\n",
    "        'visible': True,\n",
    "        'xanchor': 'right'\n",
    "    },\n",
    "    'pad': {'b': 10, 't': 50},\n",
    "    'len': 0.9,\n",
    "    'x': 0.1,\n",
    "    'y': 0,\n",
    "    'steps': []\n",
    "}\n",
    "\n",
    "# make data\n",
    "data_dict = {\n",
    "    'x': list(df.loc[df['show']=='stranger things', 'year']),\n",
    "    'y': list(df.loc[df['show']=='stranger things', 'Highest_rank']),\n",
    "    'type': 'histogram2dcontour',\n",
    "    'name': 'stranger things',\n",
    "    'colorscale': colorscale\n",
    "}\n",
    "figure['data'].append(data_dict)\n",
    "\n",
    "# make frames for the animation\n",
    "for i, show in enumerate(df['show'].unique()):\n",
    "    frame = {'data': [], 'name': show.title()}\n",
    "    dx = df[df['show']==show]\n",
    "    artist = dx.Artist\n",
    "    title = dx.Title\n",
    "    data_dict = {\n",
    "        'x': list(dx['year']),\n",
    "        'y': list(dx['Highest_rank']),\n",
    "        'type': 'histogram2dcontour',\n",
    "        'colorscale': colorscale,\n",
    "        'autocontour': True,\n",
    "        'contours': {\n",
    "            'coloring': 'fill',\n",
    "        },\n",
    "        'xbins': {\n",
    "            'start': 1975,\n",
    "            'end': 2020,\n",
    "            'size': 1\n",
    "        },\n",
    "        'nbinsy': 50,\n",
    "        'zmin': 0,\n",
    "        'zmax': 7,\n",
    "        'zmid': 4\n",
    "    }\n",
    "    contour_list.append(data_dict)\n",
    "    frame['data'].append(data_dict)\n",
    "    figure['frames'].append(frame)\n",
    "    \n",
    "    slider_step = {'args': [\n",
    "        [show.title()],\n",
    "        {'frame': {'duration': 160, 'redraw': True},\n",
    "         'mode': 'immediate', 'transition': {'duration': 0}\n",
    "        }], 'label': show.title(), 'method': 'animate'}\n",
    "    sliders_dict['steps'].append(slider_step)\n",
    "\n",
    "figure['layout']['sliders'] = [sliders_dict]\n",
    "\n",
    "# iplot(figure, auto_play=False)\n",
    "plot(figure, auto_play=False, filename='hist2dcontour.html')"
   ]
  },
  {
   "cell_type": "code",
   "execution_count": 6,
   "metadata": {},
   "outputs": [
    {
     "data": {
      "text/plain": [
       "array([1982, 1988, 2013, 1978, 1987, 1981, 2010, 1995, 1985, 1986, 1984,\n",
       "       1983, 1996, 1980, 2015, 2011, 1993, 1979, 1977, 1989, 1976],\n",
       "      dtype=int64)"
      ]
     },
     "execution_count": 6,
     "metadata": {},
     "output_type": "execute_result"
    }
   ],
   "source": [
    "df.year.unique()"
   ]
  },
  {
   "cell_type": "code",
   "execution_count": 306,
   "metadata": {},
   "outputs": [
    {
     "name": "stdout",
     "output_type": "stream",
     "text": [
      "This is the format of your plot grid:\n",
      "[ (1,1) x1,y1 ]  [ (1,2) x2,y2 ]\n",
      "\n"
     ]
    },
    {
     "data": {
      "text/plain": [
       "'file://C:\\\\Users\\\\ew648\\\\Documents\\\\GitHub\\\\billboard scrape\\\\sample chart.html'"
      ]
     },
     "execution_count": 306,
     "metadata": {},
     "output_type": "execute_result"
    }
   ],
   "source": [
    "colors_list = ['rgb(129,247,96)', 'rgb(60,114,44)', 'rgb(255,240,30)', 'rgb(160,150,20)', 'rgb(255,30,240)', 'rgb(140,20,140)', 'rgb(7,65,255)', 'rgb(10,40,150)']\n",
    "\n",
    "cols = df['show'].map(colors_dict)\n",
    "\n",
    "traces_list = []\n",
    "\n",
    "for i, show in enumerate(df['show'].unique()):\n",
    "    dx = df[df['show']==show]\n",
    "    artist = dx.Artist\n",
    "    title = dx.Title\n",
    "    trace = go.Scatter(\n",
    "        x = dx.First_week,\n",
    "        y = dx.Highest_rank.astype('int64'),\n",
    "        name = show.title(),\n",
    "        mode = 'markers',\n",
    "        text = df.loc[df['show']==show, 'text'],\n",
    "        hoverlabel = dict(namelength = 50),\n",
    "        marker = dict(\n",
    "            size = 20,\n",
    "            sizemode = 'area',\n",
    "            color = colors_list[i],\n",
    "            opacity = 0.4\n",
    "        )\n",
    "    )\n",
    "    traces_list.append(trace)\n",
    "\n",
    "legend_trace = go.Scatter(\n",
    "    x = [0, 0, 0, 0],\n",
    "    y = sizes,\n",
    "    text = ['1 week', '13 weeks', '25 weeks', '37 weeks'],\n",
    "    textposition = ['bottom center', 'middle center', 'middle center', 'middle center'],\n",
    "    mode = 'markers+text',\n",
    "    marker = dict(\n",
    "        size = (sizes + 5)**2,\n",
    "        sizemode = 'area',\n",
    "    ),\n",
    "    xaxis='x2',\n",
    "    yaxis='y2'\n",
    ")\n",
    "\n",
    "layout = go.Layout(\n",
    "    title = go.layout.Title(\n",
    "        text = 'Billboard Hot-100 Songs by Show',\n",
    "    ),\n",
    "    xaxis = dict(\n",
    "        title = go.layout.xaxis.Title(\n",
    "            text = 'First Week on the Chart'\n",
    "        ),\n",
    "        domain = [0, 0.85],\n",
    "        zeroline = False,\n",
    "        showline = False\n",
    "    ),\n",
    "    yaxis = dict(\n",
    "        title = go.layout.yaxis.Title(\n",
    "            text = 'Peak Chart Rank (higher ranks are closer to 0)'\n",
    "        ),\n",
    "        autorange = 'reversed'\n",
    "    ),\n",
    "    xaxis2 = dict(\n",
    "        domain = [0.85, 1],\n",
    "        showgrid = False,\n",
    "        zeroline = False,\n",
    "        showline = False,\n",
    "        ticks = '',\n",
    "        showticklabels = False\n",
    "    ),\n",
    "    yaxis2 = dict(\n",
    "        showgrid = False,\n",
    "        zeroline = False,\n",
    "        showline = False,\n",
    "        ticks = '',\n",
    "        showticklabels = False\n",
    "    )\n",
    ")\n",
    "\n",
    "fig = plotly.tools.make_subplots(rows=1, \n",
    "                                 cols=2, \n",
    "#                                  specs=[[{}], [{}]], \n",
    "                                 shared_xaxes=False, \n",
    "                                 shared_yaxes=False, \n",
    "                                 horizontal_spacing = 0.001\n",
    "                                )\n",
    "\n",
    "for trace in traces_list:\n",
    "    fig.append_trace((trace), 1, 1)\n",
    "fig.append_trace(legend_trace, 1, 2)\n",
    "fig['layout'].update(layout)\n",
    "\n",
    "# fig = go.Figure(data=[traces_list[:], legend_trace], layout=layout)\n",
    "# iplot(fig)\n",
    "plot(fig, filename='sample chart.html')"
   ]
  },
  {
   "cell_type": "code",
   "execution_count": 248,
   "metadata": {},
   "outputs": [
    {
     "data": {
      "application/vnd.plotly.v1+json": {
       "config": {
        "linkText": "Export to plot.ly",
        "plotlyServerURL": "https://plot.ly",
        "showLink": false
       },
       "data": [
        {
         "marker": {
          "size": [
           36,
           324,
           900,
           1764
          ],
          "sizemode": "area"
         },
         "mode": "markers+text",
         "text": [
          "1 week",
          "13 weeks",
          "25 weeks",
          "37 weeks"
         ],
         "textposition": "middle right",
         "type": "scatter",
         "uid": "aa85a071-bd14-4dc5-89fc-cf38f016c068",
         "x": [
          0,
          0,
          0,
          0
         ],
         "y": [
          1,
          13,
          25,
          37
         ]
        }
       ],
       "layout": {
        "autosize": true,
        "xaxis": {
         "autorange": true,
         "range": [
          -1,
          1
         ],
         "showgrid": false,
         "showline": false,
         "showticklabels": false,
         "ticks": "",
         "type": "linear",
         "zeroline": false
        },
        "yaxis": {
         "autorange": true,
         "range": [
          -2.0467000416541534,
          44.394530983909874
         ],
         "showgrid": false,
         "showline": false,
         "showticklabels": false,
         "ticks": "",
         "type": "linear",
         "zeroline": false
        }
       }
      },
      "image/png": "[encoded data removed]",
      "text/html": [
       "<div id=\"f0ee9894-c1bf-4a56-99df-92f6f352cdf1\" style=\"height: 525px; width: 100%;\" class=\"plotly-graph-div\"></div><script type=\"text/javascript\">require([\"plotly\"], function(Plotly) { window.PLOTLYENV=window.PLOTLYENV || {};window.PLOTLYENV.BASE_URL=\"https://plot.ly\";\n",
       "if (document.getElementById(\"f0ee9894-c1bf-4a56-99df-92f6f352cdf1\")) {\n",
       "    Plotly.newPlot(\"f0ee9894-c1bf-4a56-99df-92f6f352cdf1\", [{\"marker\": {\"size\": [36.0, 324.0, 900.0, 1764.0], \"sizemode\": \"area\"}, \"mode\": \"markers+text\", \"text\": [\"1 week\", \"13 weeks\", \"25 weeks\", \"37 weeks\"], \"textposition\": \"middle right\", \"x\": [0, 0, 0, 0], \"y\": [1.0, 13.0, 25.0, 37.0], \"type\": \"scatter\", \"uid\": \"aa85a071-bd14-4dc5-89fc-cf38f016c068\"}], {\"xaxis\": {\"showgrid\": false, \"showline\": false, \"showticklabels\": false, \"ticks\": \"\", \"zeroline\": false}, \"yaxis\": {\"showgrid\": false, \"showline\": false, \"showticklabels\": false, \"ticks\": \"\", \"zeroline\": false}}, {\"showLink\": false, \"linkText\": \"Export to plot.ly\", \"plotlyServerURL\": \"https://plot.ly\"}); \n",
       "}\n",
       "});</script><script type=\"text/javascript\">window.addEventListener(\"resize\", function(){if (document.getElementById(\"f0ee9894-c1bf-4a56-99df-92f6f352cdf1\")) {window._Plotly.Plots.resize(document.getElementById(\"f0ee9894-c1bf-4a56-99df-92f6f352cdf1\"));};})</script>"
      ],
      "text/vnd.plotly.v1+html": [
       "<div id=\"f0ee9894-c1bf-4a56-99df-92f6f352cdf1\" style=\"height: 525px; width: 100%;\" class=\"plotly-graph-div\"></div><script type=\"text/javascript\">require([\"plotly\"], function(Plotly) { window.PLOTLYENV=window.PLOTLYENV || {};window.PLOTLYENV.BASE_URL=\"https://plot.ly\";\n",
       "if (document.getElementById(\"f0ee9894-c1bf-4a56-99df-92f6f352cdf1\")) {\n",
       "    Plotly.newPlot(\"f0ee9894-c1bf-4a56-99df-92f6f352cdf1\", [{\"marker\": {\"size\": [36.0, 324.0, 900.0, 1764.0], \"sizemode\": \"area\"}, \"mode\": \"markers+text\", \"text\": [\"1 week\", \"13 weeks\", \"25 weeks\", \"37 weeks\"], \"textposition\": \"middle right\", \"x\": [0, 0, 0, 0], \"y\": [1.0, 13.0, 25.0, 37.0], \"type\": \"scatter\", \"uid\": \"aa85a071-bd14-4dc5-89fc-cf38f016c068\"}], {\"xaxis\": {\"showgrid\": false, \"showline\": false, \"showticklabels\": false, \"ticks\": \"\", \"zeroline\": false}, \"yaxis\": {\"showgrid\": false, \"showline\": false, \"showticklabels\": false, \"ticks\": \"\", \"zeroline\": false}}, {\"showLink\": false, \"linkText\": \"Export to plot.ly\", \"plotlyServerURL\": \"https://plot.ly\"}); \n",
       "}\n",
       "});</script><script type=\"text/javascript\">window.addEventListener(\"resize\", function(){if (document.getElementById(\"f0ee9894-c1bf-4a56-99df-92f6f352cdf1\")) {window._Plotly.Plots.resize(document.getElementById(\"f0ee9894-c1bf-4a56-99df-92f6f352cdf1\"));};})</script>"
      ]
     },
     "metadata": {},
     "output_type": "display_data"
    }
   ],
   "source": [
    "sizes = np.linspace(1, df.Weeks_on_chart.astype('int64').max(), 4, endpoint=True)\n",
    "\n",
    "legend_trace = go.Scatter(\n",
    "    x = [0, 0, 0, 0],\n",
    "    y = sizes,\n",
    "    text = ['1 week', '13 weeks', '25 weeks', '37 weeks'],\n",
    "    textposition = 'middle right',\n",
    "    mode = 'markers+text',\n",
    "    marker = dict(\n",
    "        size = (sizes + 5)**2,\n",
    "        sizemode = 'area',\n",
    "    )\n",
    ")\n",
    "\n",
    "legend_layout = go.Layout(\n",
    "    yaxis = dict(\n",
    "        showgrid = False,\n",
    "        zeroline = False,\n",
    "        showline = False,\n",
    "        ticks = '',\n",
    "        showticklabels = False\n",
    "    ),\n",
    "    xaxis = dict(\n",
    "        showgrid = False,\n",
    "        zeroline = False,\n",
    "        showline = False,\n",
    "        ticks = '',\n",
    "        showticklabels = False\n",
    "    )\n",
    ")\n",
    "\n",
    "fig = go.Figure([legend_trace], layout=legend_layout)\n",
    "\n",
    "iplot(fig)"
   ]
  },
  {
   "cell_type": "code",
   "execution_count": 470,
   "metadata": {},
   "outputs": [
    {
     "data": {
      "application/vnd.plotly.v1+json": {
       "config": {
        "linkText": "Export to plot.ly",
        "plotlyServerURL": "https://plot.ly",
        "showLink": false
       },
       "data": [
        {
         "autocontour": true,
         "contours": {
          "coloring": "none",
          "end": 24,
          "size": 2,
          "start": 2
         },
         "legendgroup": "show=glow ",
         "line": {
          "color": "#636efa"
         },
         "name": "show=glow ",
         "showlegend": true,
         "type": "histogram2dcontour",
         "uid": "e7bd3a0b-b7ff-4b97-935b-579fe7b2f85f",
         "visible": "legendonly",
         "x": [
          1980,
          1985,
          1983,
          1983,
          1984,
          1980,
          1985,
          1983,
          1983,
          1981,
          2015,
          1984,
          1984,
          1984,
          1985,
          1984,
          1981,
          1983,
          2011,
          1981,
          1985,
          1985,
          1984,
          1982,
          1981,
          1993,
          1984,
          1984,
          1993,
          1984,
          2015,
          1979,
          1981,
          1983,
          1983,
          1982,
          1983,
          1984,
          1983,
          1983,
          1983,
          1983,
          1984,
          1980,
          1981,
          1985,
          1984,
          1984,
          1983,
          1982,
          1984,
          1982,
          1977,
          1981,
          1982,
          1985,
          1982,
          1985,
          1983,
          1982,
          1987
         ],
         "xaxis": "x",
         "y": [
          14,
          85,
          3,
          25,
          1,
          86,
          101,
          101,
          101,
          101,
          101,
          1,
          101,
          59,
          101,
          101,
          101,
          101,
          101,
          101,
          101,
          101,
          101,
          101,
          101,
          101,
          101,
          12,
          101,
          39,
          101,
          101,
          101,
          37,
          101,
          45,
          101,
          101,
          5,
          5,
          1,
          1,
          7,
          7,
          101,
          101,
          101,
          101,
          101,
          73,
          48,
          62,
          10,
          5,
          42,
          1,
          1,
          1,
          101,
          40,
          1
         ],
         "yaxis": "y"
        },
        {
         "hovertemplate": "<b>LOWESS trendline</b><br><br>show=glow <br>year=%{x}<br>Highest_rank=%{y} <b>(trend)</b><extra></extra>",
         "legendgroup": "show=glow ",
         "line": {
          "color": "#636efa"
         },
         "mode": "lines",
         "name": "show=glow ",
         "showlegend": false,
         "type": "scatter",
         "uid": "f86d37ab-bff9-4369-8c0e-0289cd3c709c",
         "visible": "legendonly",
         "x": [
          1977,
          1979,
          1980,
          1980,
          1980,
          1981,
          1981,
          1981,
          1981,
          1981,
          1981,
          1981,
          1982,
          1982,
          1982,
          1982,
          1982,
          1982,
          1982,
          1983,
          1983,
          1983,
          1983,
          1983,
          1983,
          1983,
          1983,
          1983,
          1983,
          1983,
          1983,
          1983,
          1983,
          1984,
          1984,
          1984,
          1984,
          1984,
          1984,
          1984,
          1984,
          1984,
          1984,
          1984,
          1984,
          1984,
          1984,
          1985,
          1985,
          1985,
          1985,
          1985,
          1985,
          1985,
          1985,
          1987,
          1993,
          1993,
          2011,
          2015,
          2015
         ],
         "xaxis": "x",
         "y": [
          37.39694772114113,
          56.822616622587404,
          69.10596509926047,
          69.10596509926047,
          69.10596509926047,
          67.6360235581114,
          67.6360235581114,
          67.6360235581114,
          67.6360235581114,
          67.6360235581114,
          67.6360235581114,
          67.6360235581114,
          65.52723754423715,
          65.52723754423715,
          65.52723754423715,
          65.52723754423715,
          65.52723754423715,
          65.52723754423715,
          65.52723754423715,
          57.630373946214505,
          57.630373946214505,
          57.630373946214505,
          57.630373946214505,
          57.630373946214505,
          57.630373946214505,
          57.630373946214505,
          57.630373946214505,
          57.630373946214505,
          57.630373946214505,
          57.630373946214505,
          57.630373946214505,
          57.630373946214505,
          57.630373946214505,
          65.47125287956047,
          65.47125287956047,
          65.47125287956047,
          65.47125287956047,
          65.47125287956047,
          65.47125287956047,
          65.47125287956047,
          65.47125287956047,
          65.47125287956047,
          65.47125287956047,
          65.47125287956047,
          65.47125287956047,
          65.47125287956047,
          65.47125287956047,
          69.52597469287717,
          69.52597469287717,
          69.52597469287717,
          69.52597469287717,
          69.52597469287717,
          69.52597469287717,
          69.52597469287717,
          69.52597469287717,
          46.50622600557365,
          95.90659834187869,
          95.90659834187869,
          100.337587182126,
          101.83821421419579,
          101.83821421419579
         ],
         "yaxis": "y"
        },
        {
         "autocontour": true,
         "contours": {
          "coloring": "none",
          "end": 26,
          "size": 2,
          "start": 2
         },
         "legendgroup": "show=goldbergs ",
         "line": {
          "color": "#EF553B"
         },
         "name": "show=goldbergs ",
         "showlegend": true,
         "type": "histogram2dcontour",
         "uid": "9146a2a3-1823-4983-9ca5-3302a70eac0e",
         "x": [
          1981,
          1984,
          1981,
          1977,
          1987,
          1980,
          1986,
          1984,
          1987,
          1987,
          1984,
          1985,
          1980,
          1978,
          1982,
          1985,
          1983,
          1985,
          1985,
          1983,
          1986,
          1982,
          1987,
          1985,
          1987,
          1986,
          1984,
          1988,
          1984,
          1989,
          1985,
          1983,
          1984,
          1985,
          1987,
          1988,
          1989,
          1989,
          1980,
          1986,
          1987,
          1987,
          1987,
          1987,
          1987,
          1985,
          1976,
          1983,
          1986,
          1986,
          1986
         ],
         "xaxis": "x",
         "y": [
          1,
          1,
          101,
          8,
          1,
          9,
          26,
          1,
          57,
          1,
          5,
          101,
          9,
          3,
          1,
          4,
          3,
          1,
          10,
          17,
          1,
          1,
          40,
          1,
          8,
          1,
          3,
          9,
          21,
          1,
          3,
          76,
          7,
          1,
          1,
          3,
          1,
          2,
          101,
          1,
          51,
          1,
          101,
          1,
          13,
          13,
          13,
          12,
          2,
          1,
          4
         ],
         "yaxis": "y"
        },
        {
         "hovertemplate": "<b>LOWESS trendline</b><br><br>show=goldbergs <br>year=%{x}<br>Highest_rank=%{y} <b>(trend)</b><extra></extra>",
         "legendgroup": "show=goldbergs ",
         "line": {
          "color": "#EF553B"
         },
         "mode": "lines",
         "name": "show=goldbergs ",
         "showlegend": false,
         "type": "scatter",
         "uid": "fdffcf43-ee1f-4c00-a1cd-49784498cd43",
         "x": [
          1976,
          1977,
          1978,
          1980,
          1980,
          1980,
          1981,
          1981,
          1982,
          1982,
          1983,
          1983,
          1983,
          1983,
          1984,
          1984,
          1984,
          1984,
          1984,
          1984,
          1985,
          1985,
          1985,
          1985,
          1985,
          1985,
          1985,
          1985,
          1986,
          1986,
          1986,
          1986,
          1986,
          1986,
          1986,
          1987,
          1987,
          1987,
          1987,
          1987,
          1987,
          1987,
          1987,
          1987,
          1987,
          1987,
          1988,
          1988,
          1989,
          1989,
          1989
         ],
         "xaxis": "x",
         "y": [
          9.30778841699872,
          8.541618477494577,
          7.801848397694411,
          6.185788671666964,
          6.185788671666964,
          6.185788671666964,
          5.544234238188864,
          5.544234238188864,
          5.4805670518650125,
          5.4805670518650125,
          4.884439873216058,
          4.884439873216058,
          4.884439873216058,
          4.884439873216058,
          5.231559388975472,
          5.231559388975472,
          5.231559388975472,
          5.231559388975472,
          5.231559388975472,
          5.231559388975472,
          3.7946538461339965,
          3.7946538461339965,
          3.7946538461339965,
          3.7946538461339965,
          3.7946538461339965,
          3.7946538461339965,
          3.7946538461339965,
          3.7946538461339965,
          3.055158557215382,
          3.055158557215382,
          3.055158557215382,
          3.055158557215382,
          3.055158557215382,
          3.055158557215382,
          3.055158557215382,
          3.1953618270561273,
          3.1953618270561273,
          3.1953618270561273,
          3.1953618270561273,
          3.1953618270561273,
          3.1953618270561273,
          3.1953618270561273,
          3.1953618270561273,
          3.1953618270561273,
          3.1953618270561273,
          3.1953618270561273,
          2.889456579942915,
          2.889456579942915,
          2.6914061211147646,
          2.6914061211147646,
          2.6914061211147646
         ],
         "yaxis": "y"
        },
        {
         "autocontour": true,
         "contours": {
          "coloring": "none",
          "end": 24,
          "size": 2,
          "start": 2
         },
         "legendgroup": "show=stranger things ",
         "line": {
          "color": "#00cc96"
         },
         "name": "show=stranger things ",
         "showlegend": true,
         "type": "histogram2dcontour",
         "uid": "316e4d71-37d2-472f-8cb4-297e3b66dcac",
         "x": [
          1982,
          1988,
          2013,
          1978,
          1982,
          1982,
          1987,
          1981,
          2010,
          1995,
          1982,
          1985,
          1986,
          1984,
          1983,
          1981,
          1996,
          1984,
          1995,
          1980,
          1985,
          1983,
          1983,
          1984,
          1980,
          1985,
          1983,
          1983,
          1981,
          2015,
          1984,
          1984,
          1984,
          1985,
          1984,
          1981,
          1983,
          2011,
          1981,
          1985,
          1985,
          1984,
          1982,
          1981,
          1993,
          1984,
          1984,
          1993,
          1984,
          2015,
          1979,
          1981,
          1983,
          1983,
          1982,
          1983,
          1984,
          1983,
          1983,
          1983,
          1983
         ],
         "xaxis": "x",
         "y": [
          1,
          101,
          101,
          59,
          45,
          76,
          2,
          2,
          101,
          101,
          45,
          101,
          101,
          101,
          7,
          101,
          101,
          101,
          101,
          14,
          85,
          3,
          25,
          1,
          86,
          101,
          101,
          101,
          101,
          101,
          1,
          101,
          59,
          101,
          101,
          101,
          101,
          101,
          101,
          101,
          101,
          101,
          101,
          101,
          101,
          101,
          12,
          101,
          39,
          101,
          101,
          101,
          37,
          101,
          45,
          101,
          101,
          5,
          5,
          1,
          1
         ],
         "yaxis": "y"
        },
        {
         "hovertemplate": "<b>LOWESS trendline</b><br><br>show=stranger things <br>year=%{x}<br>Highest_rank=%{y} <b>(trend)</b><extra></extra>",
         "legendgroup": "show=stranger things ",
         "line": {
          "color": "#00cc96"
         },
         "mode": "lines",
         "name": "show=stranger things ",
         "showlegend": false,
         "type": "scatter",
         "uid": "4ebf5ac8-b4ae-47b8-9edc-fd318a2aa595",
         "x": [
          1978,
          1979,
          1980,
          1980,
          1981,
          1981,
          1981,
          1981,
          1981,
          1981,
          1981,
          1982,
          1982,
          1982,
          1982,
          1982,
          1982,
          1983,
          1983,
          1983,
          1983,
          1983,
          1983,
          1983,
          1983,
          1983,
          1983,
          1983,
          1983,
          1983,
          1984,
          1984,
          1984,
          1984,
          1984,
          1984,
          1984,
          1984,
          1984,
          1984,
          1984,
          1984,
          1985,
          1985,
          1985,
          1985,
          1985,
          1985,
          1986,
          1987,
          1988,
          1993,
          1993,
          1995,
          1995,
          1996,
          2010,
          2011,
          2013,
          2015,
          2015
         ],
         "xaxis": "x",
         "y": [
          84.29478904658761,
          82.80064203390732,
          80.63337466484832,
          80.63337466484832,
          76.38807965092222,
          76.38807965092222,
          76.38807965092222,
          76.38807965092222,
          76.38807965092222,
          76.38807965092222,
          76.38807965092222,
          63.67506070308304,
          63.67506070308304,
          63.67506070308304,
          63.67506070308304,
          63.67506070308304,
          63.67506070308304,
          54.2053974492591,
          54.2053974492591,
          54.2053974492591,
          54.2053974492591,
          54.2053974492591,
          54.2053974492591,
          54.2053974492591,
          54.2053974492591,
          54.2053974492591,
          54.2053974492591,
          54.2053974492591,
          54.2053974492591,
          54.2053974492591,
          73.18560977401215,
          73.18560977401215,
          73.18560977401215,
          73.18560977401215,
          73.18560977401215,
          73.18560977401215,
          73.18560977401215,
          73.18560977401215,
          73.18560977401215,
          73.18560977401215,
          73.18560977401215,
          73.18560977401215,
          91.5034067189455,
          91.5034067189455,
          91.5034067189455,
          91.5034067189455,
          91.5034067189455,
          91.5034067189455,
          93.01500247524949,
          97.25343051277022,
          96.28042274126804,
          98.54811955329873,
          98.54811955329873,
          101.91690848435891,
          101.91690848435891,
          103.56218130448408,
          100.96990647958935,
          101.03386192132626,
          101.1506865555101,
          101.25495543184034,
          101.25495543184034
         ],
         "yaxis": "y"
        }
       ],
       "layout": {
        "autosize": true,
        "grid": {
         "xaxes": [
          "x"
         ],
         "xgap": 0.1,
         "xside": "bottom",
         "yaxes": [
          "y"
         ],
         "ygap": 0.1,
         "yside": "left"
        },
        "legend": {
         "tracegroupgap": 0
        },
        "margin": {
         "t": 60
        },
        "template": {
         "data": {
          "bar": [
           {
            "marker": {
             "line": {
              "color": "#E5ECF6",
              "width": 0.5
             }
            },
            "type": "bar"
           }
          ],
          "barpolar": [
           {
            "marker": {
             "line": {
              "color": "#E5ECF6",
              "width": 0.5
             }
            },
            "type": "barpolar"
           }
          ],
          "carpet": [
           {
            "aaxis": {
             "endlinecolor": "#2a3f5f",
             "gridcolor": "white",
             "linecolor": "white",
             "minorgridcolor": "white",
             "startlinecolor": "#2a3f5f"
            },
            "baxis": {
             "endlinecolor": "#2a3f5f",
             "gridcolor": "white",
             "linecolor": "white",
             "minorgridcolor": "white",
             "startlinecolor": "#2a3f5f"
            },
            "type": "carpet"
           }
          ],
          "choropleth": [
           {
            "colorbar": {
             "outlinewidth": 0,
             "ticks": ""
            },
            "type": "choropleth"
           }
          ],
          "contour": [
           {
            "autocolorscale": true,
            "colorbar": {
             "outlinewidth": 0,
             "ticks": ""
            },
            "type": "contour"
           }
          ],
          "contourcarpet": [
           {
            "colorbar": {
             "outlinewidth": 0,
             "ticks": ""
            },
            "type": "contourcarpet"
           }
          ],
          "heatmap": [
           {
            "autocolorscale": true,
            "colorbar": {
             "outlinewidth": 0,
             "ticks": ""
            },
            "type": "heatmap"
           }
          ],
          "heatmapgl": [
           {
            "colorbar": {
             "outlinewidth": 0,
             "ticks": ""
            },
            "type": "heatmapgl"
           }
          ],
          "histogram": [
           {
            "marker": {
             "colorbar": {
              "outlinewidth": 0,
              "ticks": ""
             }
            },
            "type": "histogram"
           }
          ],
          "histogram2d": [
           {
            "autocolorscale": true,
            "colorbar": {
             "outlinewidth": 0,
             "ticks": ""
            },
            "type": "histogram2d"
           }
          ],
          "histogram2dcontour": [
           {
            "autocolorscale": true,
            "colorbar": {
             "outlinewidth": 0,
             "ticks": ""
            },
            "type": "histogram2dcontour"
           }
          ],
          "mesh3d": [
           {
            "colorbar": {
             "outlinewidth": 0,
             "ticks": ""
            },
            "type": "mesh3d"
           }
          ],
          "parcoords": [
           {
            "line": {
             "colorbar": {
              "outlinewidth": 0,
              "ticks": ""
             }
            },
            "type": "parcoords"
           }
          ],
          "scatter": [
           {
            "marker": {
             "colorbar": {
              "outlinewidth": 0,
              "ticks": ""
             }
            },
            "type": "scatter"
           }
          ],
          "scatter3d": [
           {
            "marker": {
             "colorbar": {
              "outlinewidth": 0,
              "ticks": ""
             }
            },
            "type": "scatter3d"
           }
          ],
          "scattercarpet": [
           {
            "marker": {
             "colorbar": {
              "outlinewidth": 0,
              "ticks": ""
             }
            },
            "type": "scattercarpet"
           }
          ],
          "scattergeo": [
           {
            "marker": {
             "colorbar": {
              "outlinewidth": 0,
              "ticks": ""
             }
            },
            "type": "scattergeo"
           }
          ],
          "scattergl": [
           {
            "marker": {
             "colorbar": {
              "outlinewidth": 0,
              "ticks": ""
             }
            },
            "type": "scattergl"
           }
          ],
          "scattermapbox": [
           {
            "marker": {
             "colorbar": {
              "outlinewidth": 0,
              "ticks": ""
             }
            },
            "type": "scattermapbox"
           }
          ],
          "scatterpolar": [
           {
            "marker": {
             "colorbar": {
              "outlinewidth": 0,
              "ticks": ""
             }
            },
            "type": "scatterpolar"
           }
          ],
          "scatterpolargl": [
           {
            "marker": {
             "colorbar": {
              "outlinewidth": 0,
              "ticks": ""
             }
            },
            "type": "scatterpolargl"
           }
          ],
          "scatterternary": [
           {
            "marker": {
             "colorbar": {
              "outlinewidth": 0,
              "ticks": ""
             }
            },
            "type": "scatterternary"
           }
          ],
          "surface": [
           {
            "colorbar": {
             "outlinewidth": 0,
             "ticks": ""
            },
            "type": "surface"
           }
          ],
          "table": [
           {
            "cells": {
             "fill": {
              "color": "#EBF0F8"
             },
             "line": {
              "color": "white"
             }
            },
            "header": {
             "fill": {
              "color": "#C8D4E3"
             },
             "line": {
              "color": "white"
             }
            },
            "type": "table"
           }
          ]
         },
         "layout": {
          "annotationdefaults": {
           "arrowcolor": "#506784",
           "arrowhead": 0,
           "arrowwidth": 1
          },
          "colorscale": {
           "diverging": [
            [
             0,
             "#8e0152"
            ],
            [
             0.1,
             "#c51b7d"
            ],
            [
             0.2,
             "#de77ae"
            ],
            [
             0.3,
             "#f1b6da"
            ],
            [
             0.4,
             "#fde0ef"
            ],
            [
             0.5,
             "#f7f7f7"
            ],
            [
             0.6,
             "#e6f5d0"
            ],
            [
             0.7,
             "#b8e186"
            ],
            [
             0.8,
             "#7fbc41"
            ],
            [
             0.9,
             "#4d9221"
            ],
            [
             1,
             "#276419"
            ]
           ],
           "sequential": [
            [
             0,
             "#0508b8"
            ],
            [
             0.0893854748603352,
             "#1910d8"
            ],
            [
             0.1787709497206704,
             "#3c19f0"
            ],
            [
             0.2681564245810056,
             "#6b1cfb"
            ],
            [
             0.3575418994413408,
             "#981cfd"
            ],
            [
             0.44692737430167595,
             "#bf1cfd"
            ],
            [
             0.5363128491620112,
             "#dd2bfd"
            ],
            [
             0.6256983240223464,
             "#f246fe"
            ],
            [
             0.7150837988826816,
             "#fc67fd"
            ],
            [
             0.8044692737430168,
             "#fe88fc"
            ],
            [
             0.8938547486033519,
             "#fea5fd"
            ],
            [
             0.9832402234636871,
             "#febefe"
            ],
            [
             1,
             "#fec3fe"
            ]
           ],
           "sequentialminus": [
            [
             0,
             "#0508b8"
            ],
            [
             0.0893854748603352,
             "#1910d8"
            ],
            [
             0.1787709497206704,
             "#3c19f0"
            ],
            [
             0.2681564245810056,
             "#6b1cfb"
            ],
            [
             0.3575418994413408,
             "#981cfd"
            ],
            [
             0.44692737430167595,
             "#bf1cfd"
            ],
            [
             0.5363128491620112,
             "#dd2bfd"
            ],
            [
             0.6256983240223464,
             "#f246fe"
            ],
            [
             0.7150837988826816,
             "#fc67fd"
            ],
            [
             0.8044692737430168,
             "#fe88fc"
            ],
            [
             0.8938547486033519,
             "#fea5fd"
            ],
            [
             0.9832402234636871,
             "#febefe"
            ],
            [
             1,
             "#fec3fe"
            ]
           ]
          },
          "colorway": [
           "#636efa",
           "#EF553B",
           "#00cc96",
           "#ab63fa",
           "#19d3f3",
           "#e763fa",
           "#FECB52",
           "#FFA15A",
           "#FF6692",
           "#B6E880"
          ],
          "font": {
           "color": "#2a3f5f"
          },
          "geo": {
           "bgcolor": "white",
           "lakecolor": "white",
           "landcolor": "#E5ECF6",
           "showlakes": true,
           "showland": true,
           "subunitcolor": "white"
          },
          "hovermode": "closest",
          "mapbox": {
           "style": "light"
          },
          "paper_bgcolor": "white",
          "plot_bgcolor": "#E5ECF6",
          "polar": {
           "angularaxis": {
            "gridcolor": "white",
            "linecolor": "white",
            "ticks": ""
           },
           "bgcolor": "#E5ECF6",
           "radialaxis": {
            "gridcolor": "white",
            "linecolor": "white",
            "ticks": ""
           }
          },
          "scene": {
           "xaxis": {
            "backgroundcolor": "#E5ECF6",
            "gridcolor": "white",
            "gridwidth": 2,
            "linecolor": "white",
            "showbackground": true,
            "ticks": "",
            "zerolinecolor": "white"
           },
           "yaxis": {
            "backgroundcolor": "#E5ECF6",
            "gridcolor": "white",
            "gridwidth": 2,
            "linecolor": "white",
            "showbackground": true,
            "ticks": "",
            "zerolinecolor": "white"
           },
           "zaxis": {
            "backgroundcolor": "#E5ECF6",
            "gridcolor": "white",
            "gridwidth": 2,
            "linecolor": "white",
            "showbackground": true,
            "ticks": "",
            "zerolinecolor": "white"
           }
          },
          "shapedefaults": {
           "fillcolor": "#506784",
           "line": {
            "width": 0
           },
           "opacity": 0.4
          },
          "ternary": {
           "aaxis": {
            "gridcolor": "white",
            "linecolor": "white",
            "ticks": ""
           },
           "baxis": {
            "gridcolor": "white",
            "linecolor": "white",
            "ticks": ""
           },
           "bgcolor": "#E5ECF6",
           "caxis": {
            "gridcolor": "white",
            "linecolor": "white",
            "ticks": ""
           }
          },
          "title": {
           "x": 0.05
          },
          "xaxis": {
           "automargin": true,
           "gridcolor": "white",
           "linecolor": "white",
           "ticks": "",
           "zerolinecolor": "white",
           "zerolinewidth": 2
          },
          "yaxis": {
           "automargin": true,
           "gridcolor": "white",
           "linecolor": "white",
           "ticks": "",
           "zerolinecolor": "white",
           "zerolinewidth": 2
          }
         }
        },
        "xaxis": {
         "autorange": true,
         "range": [
          1964.5,
          2024.5
         ],
         "title": {
          "text": "year"
         },
         "type": "linear"
        },
        "yaxis": {
         "range": [
          117,
          -8
         ],
         "title": {
          "text": "Highest_rank"
         },
         "type": "linear"
        }
       }
      },
      "image/png": "[encoded data removed]",
      "text/html": [
       "<div id=\"41691c3e-31d3-4edd-a1b7-95f9a3857474\" style=\"height: 600px; width: 100%;\" class=\"plotly-graph-div\"></div><script type=\"text/javascript\">require([\"plotly\"], function(Plotly) { window.PLOTLYENV=window.PLOTLYENV || {};window.PLOTLYENV.BASE_URL=\"https://plot.ly\";\n",
       "if (document.getElementById(\"41691c3e-31d3-4edd-a1b7-95f9a3857474\")) {\n",
       "    Plotly.newPlot(\"41691c3e-31d3-4edd-a1b7-95f9a3857474\", [{\"contours\": {\"coloring\": \"none\"}, \"legendgroup\": \"show=glow \", \"line\": {\"color\": \"#636efa\"}, \"name\": \"show=glow \", \"showlegend\": true, \"x\": [1980, 1985, 1983, 1983, 1984, 1980, 1985, 1983, 1983, 1981, 2015, 1984, 1984, 1984, 1985, 1984, 1981, 1983, 2011, 1981, 1985, 1985, 1984, 1982, 1981, 1993, 1984, 1984, 1993, 1984, 2015, 1979, 1981, 1983, 1983, 1982, 1983, 1984, 1983, 1983, 1983, 1983, 1984, 1980, 1981, 1985, 1984, 1984, 1983, 1982, 1984, 1982, 1977, 1981, 1982, 1985, 1982, 1985, 1983, 1982, 1987], \"xaxis\": \"x\", \"y\": [14.0, 85.0, 3.0, 25.0, 1.0, 86.0, 101.0, 101.0, 101.0, 101.0, 101.0, 1.0, 101.0, 59.0, 101.0, 101.0, 101.0, 101.0, 101.0, 101.0, 101.0, 101.0, 101.0, 101.0, 101.0, 101.0, 101.0, 12.0, 101.0, 39.0, 101.0, 101.0, 101.0, 37.0, 101.0, 45.0, 101.0, 101.0, 5.0, 5.0, 1.0, 1.0, 7.0, 7.0, 101.0, 101.0, 101.0, 101.0, 101.0, 73.0, 48.0, 62.0, 10.0, 5.0, 42.0, 1.0, 1.0, 1.0, 101.0, 40.0, 1.0], \"yaxis\": \"y\", \"type\": \"histogram2dcontour\", \"uid\": \"e7bd3a0b-b7ff-4b97-935b-579fe7b2f85f\"}, {\"hovertemplate\": \"<b>LOWESS trendline</b><br><br>show=glow <br>year=%{x}<br>Highest_rank=%{y} <b>(trend)</b><extra></extra>\", \"legendgroup\": \"show=glow \", \"line\": {\"color\": \"#636efa\"}, \"mode\": \"lines\", \"name\": \"show=glow \", \"showlegend\": false, \"x\": [1977.0, 1979.0, 1980.0, 1980.0, 1980.0, 1981.0, 1981.0, 1981.0, 1981.0, 1981.0, 1981.0, 1981.0, 1982.0, 1982.0, 1982.0, 1982.0, 1982.0, 1982.0, 1982.0, 1983.0, 1983.0, 1983.0, 1983.0, 1983.0, 1983.0, 1983.0, 1983.0, 1983.0, 1983.0, 1983.0, 1983.0, 1983.0, 1983.0, 1984.0, 1984.0, 1984.0, 1984.0, 1984.0, 1984.0, 1984.0, 1984.0, 1984.0, 1984.0, 1984.0, 1984.0, 1984.0, 1984.0, 1985.0, 1985.0, 1985.0, 1985.0, 1985.0, 1985.0, 1985.0, 1985.0, 1987.0, 1993.0, 1993.0, 2011.0, 2015.0, 2015.0], \"xaxis\": \"x\", \"y\": [37.39694772114113, 56.822616622587404, 69.10596509926047, 69.10596509926047, 69.10596509926047, 67.6360235581114, 67.6360235581114, 67.6360235581114, 67.6360235581114, 67.6360235581114, 67.6360235581114, 67.6360235581114, 65.52723754423715, 65.52723754423715, 65.52723754423715, 65.52723754423715, 65.52723754423715, 65.52723754423715, 65.52723754423715, 57.630373946214505, 57.630373946214505, 57.630373946214505, 57.630373946214505, 57.630373946214505, 57.630373946214505, 57.630373946214505, 57.630373946214505, 57.630373946214505, 57.630373946214505, 57.630373946214505, 57.630373946214505, 57.630373946214505, 57.630373946214505, 65.47125287956047, 65.47125287956047, 65.47125287956047, 65.47125287956047, 65.47125287956047, 65.47125287956047, 65.47125287956047, 65.47125287956047, 65.47125287956047, 65.47125287956047, 65.47125287956047, 65.47125287956047, 65.47125287956047, 65.47125287956047, 69.52597469287717, 69.52597469287717, 69.52597469287717, 69.52597469287717, 69.52597469287717, 69.52597469287717, 69.52597469287717, 69.52597469287717, 46.50622600557365, 95.90659834187869, 95.90659834187869, 100.337587182126, 101.83821421419579, 101.83821421419579], \"yaxis\": \"y\", \"type\": \"scatter\", \"uid\": \"f86d37ab-bff9-4369-8c0e-0289cd3c709c\"}, {\"contours\": {\"coloring\": \"none\"}, \"legendgroup\": \"show=goldbergs \", \"line\": {\"color\": \"#EF553B\"}, \"name\": \"show=goldbergs \", \"showlegend\": true, \"x\": [1981, 1984, 1981, 1977, 1987, 1980, 1986, 1984, 1987, 1987, 1984, 1985, 1980, 1978, 1982, 1985, 1983, 1985, 1985, 1983, 1986, 1982, 1987, 1985, 1987, 1986, 1984, 1988, 1984, 1989, 1985, 1983, 1984, 1985, 1987, 1988, 1989, 1989, 1980, 1986, 1987, 1987, 1987, 1987, 1987, 1985, 1976, 1983, 1986, 1986, 1986], \"xaxis\": \"x\", \"y\": [1.0, 1.0, 101.0, 8.0, 1.0, 9.0, 26.0, 1.0, 57.0, 1.0, 5.0, 101.0, 9.0, 3.0, 1.0, 4.0, 3.0, 1.0, 10.0, 17.0, 1.0, 1.0, 40.0, 1.0, 8.0, 1.0, 3.0, 9.0, 21.0, 1.0, 3.0, 76.0, 7.0, 1.0, 1.0, 3.0, 1.0, 2.0, 101.0, 1.0, 51.0, 1.0, 101.0, 1.0, 13.0, 13.0, 13.0, 12.0, 2.0, 1.0, 4.0], \"yaxis\": \"y\", \"type\": \"histogram2dcontour\", \"uid\": \"9146a2a3-1823-4983-9ca5-3302a70eac0e\"}, {\"hovertemplate\": \"<b>LOWESS trendline</b><br><br>show=goldbergs <br>year=%{x}<br>Highest_rank=%{y} <b>(trend)</b><extra></extra>\", \"legendgroup\": \"show=goldbergs \", \"line\": {\"color\": \"#EF553B\"}, \"mode\": \"lines\", \"name\": \"show=goldbergs \", \"showlegend\": false, \"x\": [1976.0, 1977.0, 1978.0, 1980.0, 1980.0, 1980.0, 1981.0, 1981.0, 1982.0, 1982.0, 1983.0, 1983.0, 1983.0, 1983.0, 1984.0, 1984.0, 1984.0, 1984.0, 1984.0, 1984.0, 1985.0, 1985.0, 1985.0, 1985.0, 1985.0, 1985.0, 1985.0, 1985.0, 1986.0, 1986.0, 1986.0, 1986.0, 1986.0, 1986.0, 1986.0, 1987.0, 1987.0, 1987.0, 1987.0, 1987.0, 1987.0, 1987.0, 1987.0, 1987.0, 1987.0, 1987.0, 1988.0, 1988.0, 1989.0, 1989.0, 1989.0], \"xaxis\": \"x\", \"y\": [9.30778841699872, 8.541618477494577, 7.801848397694411, 6.185788671666964, 6.185788671666964, 6.185788671666964, 5.544234238188864, 5.544234238188864, 5.4805670518650125, 5.4805670518650125, 4.884439873216058, 4.884439873216058, 4.884439873216058, 4.884439873216058, 5.231559388975472, 5.231559388975472, 5.231559388975472, 5.231559388975472, 5.231559388975472, 5.231559388975472, 3.7946538461339965, 3.7946538461339965, 3.7946538461339965, 3.7946538461339965, 3.7946538461339965, 3.7946538461339965, 3.7946538461339965, 3.7946538461339965, 3.055158557215382, 3.055158557215382, 3.055158557215382, 3.055158557215382, 3.055158557215382, 3.055158557215382, 3.055158557215382, 3.1953618270561273, 3.1953618270561273, 3.1953618270561273, 3.1953618270561273, 3.1953618270561273, 3.1953618270561273, 3.1953618270561273, 3.1953618270561273, 3.1953618270561273, 3.1953618270561273, 3.1953618270561273, 2.889456579942915, 2.889456579942915, 2.6914061211147646, 2.6914061211147646, 2.6914061211147646], \"yaxis\": \"y\", \"type\": \"scatter\", \"uid\": \"fdffcf43-ee1f-4c00-a1cd-49784498cd43\"}, {\"contours\": {\"coloring\": \"none\"}, \"legendgroup\": \"show=stranger things \", \"line\": {\"color\": \"#00cc96\"}, \"name\": \"show=stranger things \", \"showlegend\": true, \"x\": [1982, 1988, 2013, 1978, 1982, 1982, 1987, 1981, 2010, 1995, 1982, 1985, 1986, 1984, 1983, 1981, 1996, 1984, 1995, 1980, 1985, 1983, 1983, 1984, 1980, 1985, 1983, 1983, 1981, 2015, 1984, 1984, 1984, 1985, 1984, 1981, 1983, 2011, 1981, 1985, 1985, 1984, 1982, 1981, 1993, 1984, 1984, 1993, 1984, 2015, 1979, 1981, 1983, 1983, 1982, 1983, 1984, 1983, 1983, 1983, 1983], \"xaxis\": \"x\", \"y\": [1.0, 101.0, 101.0, 59.0, 45.0, 76.0, 2.0, 2.0, 101.0, 101.0, 45.0, 101.0, 101.0, 101.0, 7.0, 101.0, 101.0, 101.0, 101.0, 14.0, 85.0, 3.0, 25.0, 1.0, 86.0, 101.0, 101.0, 101.0, 101.0, 101.0, 1.0, 101.0, 59.0, 101.0, 101.0, 101.0, 101.0, 101.0, 101.0, 101.0, 101.0, 101.0, 101.0, 101.0, 101.0, 101.0, 12.0, 101.0, 39.0, 101.0, 101.0, 101.0, 37.0, 101.0, 45.0, 101.0, 101.0, 5.0, 5.0, 1.0, 1.0], \"yaxis\": \"y\", \"type\": \"histogram2dcontour\", \"uid\": \"316e4d71-37d2-472f-8cb4-297e3b66dcac\"}, {\"hovertemplate\": \"<b>LOWESS trendline</b><br><br>show=stranger things <br>year=%{x}<br>Highest_rank=%{y} <b>(trend)</b><extra></extra>\", \"legendgroup\": \"show=stranger things \", \"line\": {\"color\": \"#00cc96\"}, \"mode\": \"lines\", \"name\": \"show=stranger things \", \"showlegend\": false, \"x\": [1978.0, 1979.0, 1980.0, 1980.0, 1981.0, 1981.0, 1981.0, 1981.0, 1981.0, 1981.0, 1981.0, 1982.0, 1982.0, 1982.0, 1982.0, 1982.0, 1982.0, 1983.0, 1983.0, 1983.0, 1983.0, 1983.0, 1983.0, 1983.0, 1983.0, 1983.0, 1983.0, 1983.0, 1983.0, 1983.0, 1984.0, 1984.0, 1984.0, 1984.0, 1984.0, 1984.0, 1984.0, 1984.0, 1984.0, 1984.0, 1984.0, 1984.0, 1985.0, 1985.0, 1985.0, 1985.0, 1985.0, 1985.0, 1986.0, 1987.0, 1988.0, 1993.0, 1993.0, 1995.0, 1995.0, 1996.0, 2010.0, 2011.0, 2013.0, 2015.0, 2015.0], \"xaxis\": \"x\", \"y\": [84.29478904658761, 82.80064203390732, 80.63337466484832, 80.63337466484832, 76.38807965092222, 76.38807965092222, 76.38807965092222, 76.38807965092222, 76.38807965092222, 76.38807965092222, 76.38807965092222, 63.67506070308304, 63.67506070308304, 63.67506070308304, 63.67506070308304, 63.67506070308304, 63.67506070308304, 54.2053974492591, 54.2053974492591, 54.2053974492591, 54.2053974492591, 54.2053974492591, 54.2053974492591, 54.2053974492591, 54.2053974492591, 54.2053974492591, 54.2053974492591, 54.2053974492591, 54.2053974492591, 54.2053974492591, 73.18560977401215, 73.18560977401215, 73.18560977401215, 73.18560977401215, 73.18560977401215, 73.18560977401215, 73.18560977401215, 73.18560977401215, 73.18560977401215, 73.18560977401215, 73.18560977401215, 73.18560977401215, 91.5034067189455, 91.5034067189455, 91.5034067189455, 91.5034067189455, 91.5034067189455, 91.5034067189455, 93.01500247524949, 97.25343051277022, 96.28042274126804, 98.54811955329873, 98.54811955329873, 101.91690848435891, 101.91690848435891, 103.56218130448408, 100.96990647958935, 101.03386192132626, 101.1506865555101, 101.25495543184034, 101.25495543184034], \"yaxis\": \"y\", \"type\": \"scatter\", \"uid\": \"4ebf5ac8-b4ae-47b8-9edc-fd318a2aa595\"}], {\"height\": 600, \"legend\": {\"tracegroupgap\": 0}, \"margin\": {\"t\": 60}, \"template\": {\"data\": {\"barpolar\": [{\"marker\": {\"line\": {\"color\": \"#E5ECF6\", \"width\": 0.5}}, \"type\": \"barpolar\"}], \"bar\": [{\"marker\": {\"line\": {\"color\": \"#E5ECF6\", \"width\": 0.5}}, \"type\": \"bar\"}], \"carpet\": [{\"aaxis\": {\"endlinecolor\": \"#2a3f5f\", \"gridcolor\": \"white\", \"linecolor\": \"white\", \"minorgridcolor\": \"white\", \"startlinecolor\": \"#2a3f5f\"}, \"baxis\": {\"endlinecolor\": \"#2a3f5f\", \"gridcolor\": \"white\", \"linecolor\": \"white\", \"minorgridcolor\": \"white\", \"startlinecolor\": \"#2a3f5f\"}, \"type\": \"carpet\"}], \"choropleth\": [{\"colorbar\": {\"outlinewidth\": 0, \"ticks\": \"\"}, \"type\": \"choropleth\"}], \"contourcarpet\": [{\"colorbar\": {\"outlinewidth\": 0, \"ticks\": \"\"}, \"type\": \"contourcarpet\"}], \"contour\": [{\"autocolorscale\": true, \"colorbar\": {\"outlinewidth\": 0, \"ticks\": \"\"}, \"type\": \"contour\"}], \"heatmapgl\": [{\"colorbar\": {\"outlinewidth\": 0, \"ticks\": \"\"}, \"type\": \"heatmapgl\"}], \"heatmap\": [{\"autocolorscale\": true, \"colorbar\": {\"outlinewidth\": 0, \"ticks\": \"\"}, \"type\": \"heatmap\"}], \"histogram2dcontour\": [{\"autocolorscale\": true, \"colorbar\": {\"outlinewidth\": 0, \"ticks\": \"\"}, \"type\": \"histogram2dcontour\"}], \"histogram2d\": [{\"autocolorscale\": true, \"colorbar\": {\"outlinewidth\": 0, \"ticks\": \"\"}, \"type\": \"histogram2d\"}], \"histogram\": [{\"marker\": {\"colorbar\": {\"outlinewidth\": 0, \"ticks\": \"\"}}, \"type\": \"histogram\"}], \"mesh3d\": [{\"colorbar\": {\"outlinewidth\": 0, \"ticks\": \"\"}, \"type\": \"mesh3d\"}], \"parcoords\": [{\"line\": {\"colorbar\": {\"outlinewidth\": 0, \"ticks\": \"\"}}, \"type\": \"parcoords\"}], \"scatter3d\": [{\"marker\": {\"colorbar\": {\"outlinewidth\": 0, \"ticks\": \"\"}}, \"type\": \"scatter3d\"}], \"scattercarpet\": [{\"marker\": {\"colorbar\": {\"outlinewidth\": 0, \"ticks\": \"\"}}, \"type\": \"scattercarpet\"}], \"scattergeo\": [{\"marker\": {\"colorbar\": {\"outlinewidth\": 0, \"ticks\": \"\"}}, \"type\": \"scattergeo\"}], \"scattergl\": [{\"marker\": {\"colorbar\": {\"outlinewidth\": 0, \"ticks\": \"\"}}, \"type\": \"scattergl\"}], \"scattermapbox\": [{\"marker\": {\"colorbar\": {\"outlinewidth\": 0, \"ticks\": \"\"}}, \"type\": \"scattermapbox\"}], \"scatterpolargl\": [{\"marker\": {\"colorbar\": {\"outlinewidth\": 0, \"ticks\": \"\"}}, \"type\": \"scatterpolargl\"}], \"scatterpolar\": [{\"marker\": {\"colorbar\": {\"outlinewidth\": 0, \"ticks\": \"\"}}, \"type\": \"scatterpolar\"}], \"scatter\": [{\"marker\": {\"colorbar\": {\"outlinewidth\": 0, \"ticks\": \"\"}}, \"type\": \"scatter\"}], \"scatterternary\": [{\"marker\": {\"colorbar\": {\"outlinewidth\": 0, \"ticks\": \"\"}}, \"type\": \"scatterternary\"}], \"surface\": [{\"colorbar\": {\"outlinewidth\": 0, \"ticks\": \"\"}, \"type\": \"surface\"}], \"table\": [{\"cells\": {\"fill\": {\"color\": \"#EBF0F8\"}, \"line\": {\"color\": \"white\"}}, \"header\": {\"fill\": {\"color\": \"#C8D4E3\"}, \"line\": {\"color\": \"white\"}}, \"type\": \"table\"}]}, \"layout\": {\"annotationdefaults\": {\"arrowcolor\": \"#506784\", \"arrowhead\": 0, \"arrowwidth\": 1}, \"colorscale\": {\"diverging\": [[0, \"#8e0152\"], [0.1, \"#c51b7d\"], [0.2, \"#de77ae\"], [0.3, \"#f1b6da\"], [0.4, \"#fde0ef\"], [0.5, \"#f7f7f7\"], [0.6, \"#e6f5d0\"], [0.7, \"#b8e186\"], [0.8, \"#7fbc41\"], [0.9, \"#4d9221\"], [1, \"#276419\"]], \"sequential\": [[0.0, \"#0508b8\"], [0.0893854748603352, \"#1910d8\"], [0.1787709497206704, \"#3c19f0\"], [0.2681564245810056, \"#6b1cfb\"], [0.3575418994413408, \"#981cfd\"], [0.44692737430167595, \"#bf1cfd\"], [0.5363128491620112, \"#dd2bfd\"], [0.6256983240223464, \"#f246fe\"], [0.7150837988826816, \"#fc67fd\"], [0.8044692737430168, \"#fe88fc\"], [0.8938547486033519, \"#fea5fd\"], [0.9832402234636871, \"#febefe\"], [1.0, \"#fec3fe\"]], \"sequentialminus\": [[0.0, \"#0508b8\"], [0.0893854748603352, \"#1910d8\"], [0.1787709497206704, \"#3c19f0\"], [0.2681564245810056, \"#6b1cfb\"], [0.3575418994413408, \"#981cfd\"], [0.44692737430167595, \"#bf1cfd\"], [0.5363128491620112, \"#dd2bfd\"], [0.6256983240223464, \"#f246fe\"], [0.7150837988826816, \"#fc67fd\"], [0.8044692737430168, \"#fe88fc\"], [0.8938547486033519, \"#fea5fd\"], [0.9832402234636871, \"#febefe\"], [1.0, \"#fec3fe\"]]}, \"colorway\": [\"#636efa\", \"#EF553B\", \"#00cc96\", \"#ab63fa\", \"#19d3f3\", \"#e763fa\", \"#FECB52\", \"#FFA15A\", \"#FF6692\", \"#B6E880\"], \"font\": {\"color\": \"#2a3f5f\"}, \"geo\": {\"bgcolor\": \"white\", \"lakecolor\": \"white\", \"landcolor\": \"#E5ECF6\", \"showlakes\": true, \"showland\": true, \"subunitcolor\": \"white\"}, \"hovermode\": \"closest\", \"mapbox\": {\"style\": \"light\"}, \"paper_bgcolor\": \"white\", \"plot_bgcolor\": \"#E5ECF6\", \"polar\": {\"angularaxis\": {\"gridcolor\": \"white\", \"linecolor\": \"white\", \"ticks\": \"\"}, \"bgcolor\": \"#E5ECF6\", \"radialaxis\": {\"gridcolor\": \"white\", \"linecolor\": \"white\", \"ticks\": \"\"}}, \"scene\": {\"xaxis\": {\"backgroundcolor\": \"#E5ECF6\", \"gridcolor\": \"white\", \"gridwidth\": 2, \"linecolor\": \"white\", \"showbackground\": true, \"ticks\": \"\", \"zerolinecolor\": \"white\"}, \"yaxis\": {\"backgroundcolor\": \"#E5ECF6\", \"gridcolor\": \"white\", \"gridwidth\": 2, \"linecolor\": \"white\", \"showbackground\": true, \"ticks\": \"\", \"zerolinecolor\": \"white\"}, \"zaxis\": {\"backgroundcolor\": \"#E5ECF6\", \"gridcolor\": \"white\", \"gridwidth\": 2, \"linecolor\": \"white\", \"showbackground\": true, \"ticks\": \"\", \"zerolinecolor\": \"white\"}}, \"shapedefaults\": {\"fillcolor\": \"#506784\", \"line\": {\"width\": 0}, \"opacity\": 0.4}, \"ternary\": {\"aaxis\": {\"gridcolor\": \"white\", \"linecolor\": \"white\", \"ticks\": \"\"}, \"baxis\": {\"gridcolor\": \"white\", \"linecolor\": \"white\", \"ticks\": \"\"}, \"bgcolor\": \"#E5ECF6\", \"caxis\": {\"gridcolor\": \"white\", \"linecolor\": \"white\", \"ticks\": \"\"}}, \"title\": {\"x\": 0.05}, \"xaxis\": {\"automargin\": true, \"gridcolor\": \"white\", \"linecolor\": \"white\", \"ticks\": \"\", \"zerolinecolor\": \"white\", \"zerolinewidth\": 2}, \"yaxis\": {\"automargin\": true, \"gridcolor\": \"white\", \"linecolor\": \"white\", \"ticks\": \"\", \"zerolinecolor\": \"white\", \"zerolinewidth\": 2}}}, \"grid\": {\"xaxes\": [\"x\"], \"yaxes\": [\"y\"], \"xgap\": 0.1, \"ygap\": 0.1, \"xside\": \"bottom\", \"yside\": \"left\"}, \"yaxis\": {\"title\": {\"text\": \"Highest_rank\"}, \"range\": [117, -8]}, \"xaxis\": {\"title\": {\"text\": \"year\"}}}, {\"showLink\": false, \"linkText\": \"Export to plot.ly\", \"plotlyServerURL\": \"https://plot.ly\"}); \n",
       "}\n",
       "});</script><script type=\"text/javascript\">window.addEventListener(\"resize\", function(){if (document.getElementById(\"41691c3e-31d3-4edd-a1b7-95f9a3857474\")) {window._Plotly.Plots.resize(document.getElementById(\"41691c3e-31d3-4edd-a1b7-95f9a3857474\"));};})</script>"
      ],
      "text/vnd.plotly.v1+html": [
       "<div id=\"41691c3e-31d3-4edd-a1b7-95f9a3857474\" style=\"height: 600px; width: 100%;\" class=\"plotly-graph-div\"></div><script type=\"text/javascript\">require([\"plotly\"], function(Plotly) { window.PLOTLYENV=window.PLOTLYENV || {};window.PLOTLYENV.BASE_URL=\"https://plot.ly\";\n",
       "if (document.getElementById(\"41691c3e-31d3-4edd-a1b7-95f9a3857474\")) {\n",
       "    Plotly.newPlot(\"41691c3e-31d3-4edd-a1b7-95f9a3857474\", [{\"contours\": {\"coloring\": \"none\"}, \"legendgroup\": \"show=glow \", \"line\": {\"color\": \"#636efa\"}, \"name\": \"show=glow \", \"showlegend\": true, \"x\": [1980, 1985, 1983, 1983, 1984, 1980, 1985, 1983, 1983, 1981, 2015, 1984, 1984, 1984, 1985, 1984, 1981, 1983, 2011, 1981, 1985, 1985, 1984, 1982, 1981, 1993, 1984, 1984, 1993, 1984, 2015, 1979, 1981, 1983, 1983, 1982, 1983, 1984, 1983, 1983, 1983, 1983, 1984, 1980, 1981, 1985, 1984, 1984, 1983, 1982, 1984, 1982, 1977, 1981, 1982, 1985, 1982, 1985, 1983, 1982, 1987], \"xaxis\": \"x\", \"y\": [14.0, 85.0, 3.0, 25.0, 1.0, 86.0, 101.0, 101.0, 101.0, 101.0, 101.0, 1.0, 101.0, 59.0, 101.0, 101.0, 101.0, 101.0, 101.0, 101.0, 101.0, 101.0, 101.0, 101.0, 101.0, 101.0, 101.0, 12.0, 101.0, 39.0, 101.0, 101.0, 101.0, 37.0, 101.0, 45.0, 101.0, 101.0, 5.0, 5.0, 1.0, 1.0, 7.0, 7.0, 101.0, 101.0, 101.0, 101.0, 101.0, 73.0, 48.0, 62.0, 10.0, 5.0, 42.0, 1.0, 1.0, 1.0, 101.0, 40.0, 1.0], \"yaxis\": \"y\", \"type\": \"histogram2dcontour\", \"uid\": \"e7bd3a0b-b7ff-4b97-935b-579fe7b2f85f\"}, {\"hovertemplate\": \"<b>LOWESS trendline</b><br><br>show=glow <br>year=%{x}<br>Highest_rank=%{y} <b>(trend)</b><extra></extra>\", \"legendgroup\": \"show=glow \", \"line\": {\"color\": \"#636efa\"}, \"mode\": \"lines\", \"name\": \"show=glow \", \"showlegend\": false, \"x\": [1977.0, 1979.0, 1980.0, 1980.0, 1980.0, 1981.0, 1981.0, 1981.0, 1981.0, 1981.0, 1981.0, 1981.0, 1982.0, 1982.0, 1982.0, 1982.0, 1982.0, 1982.0, 1982.0, 1983.0, 1983.0, 1983.0, 1983.0, 1983.0, 1983.0, 1983.0, 1983.0, 1983.0, 1983.0, 1983.0, 1983.0, 1983.0, 1983.0, 1984.0, 1984.0, 1984.0, 1984.0, 1984.0, 1984.0, 1984.0, 1984.0, 1984.0, 1984.0, 1984.0, 1984.0, 1984.0, 1984.0, 1985.0, 1985.0, 1985.0, 1985.0, 1985.0, 1985.0, 1985.0, 1985.0, 1987.0, 1993.0, 1993.0, 2011.0, 2015.0, 2015.0], \"xaxis\": \"x\", \"y\": [37.39694772114113, 56.822616622587404, 69.10596509926047, 69.10596509926047, 69.10596509926047, 67.6360235581114, 67.6360235581114, 67.6360235581114, 67.6360235581114, 67.6360235581114, 67.6360235581114, 67.6360235581114, 65.52723754423715, 65.52723754423715, 65.52723754423715, 65.52723754423715, 65.52723754423715, 65.52723754423715, 65.52723754423715, 57.630373946214505, 57.630373946214505, 57.630373946214505, 57.630373946214505, 57.630373946214505, 57.630373946214505, 57.630373946214505, 57.630373946214505, 57.630373946214505, 57.630373946214505, 57.630373946214505, 57.630373946214505, 57.630373946214505, 57.630373946214505, 65.47125287956047, 65.47125287956047, 65.47125287956047, 65.47125287956047, 65.47125287956047, 65.47125287956047, 65.47125287956047, 65.47125287956047, 65.47125287956047, 65.47125287956047, 65.47125287956047, 65.47125287956047, 65.47125287956047, 65.47125287956047, 69.52597469287717, 69.52597469287717, 69.52597469287717, 69.52597469287717, 69.52597469287717, 69.52597469287717, 69.52597469287717, 69.52597469287717, 46.50622600557365, 95.90659834187869, 95.90659834187869, 100.337587182126, 101.83821421419579, 101.83821421419579], \"yaxis\": \"y\", \"type\": \"scatter\", \"uid\": \"f86d37ab-bff9-4369-8c0e-0289cd3c709c\"}, {\"contours\": {\"coloring\": \"none\"}, \"legendgroup\": \"show=goldbergs \", \"line\": {\"color\": \"#EF553B\"}, \"name\": \"show=goldbergs \", \"showlegend\": true, \"x\": [1981, 1984, 1981, 1977, 1987, 1980, 1986, 1984, 1987, 1987, 1984, 1985, 1980, 1978, 1982, 1985, 1983, 1985, 1985, 1983, 1986, 1982, 1987, 1985, 1987, 1986, 1984, 1988, 1984, 1989, 1985, 1983, 1984, 1985, 1987, 1988, 1989, 1989, 1980, 1986, 1987, 1987, 1987, 1987, 1987, 1985, 1976, 1983, 1986, 1986, 1986], \"xaxis\": \"x\", \"y\": [1.0, 1.0, 101.0, 8.0, 1.0, 9.0, 26.0, 1.0, 57.0, 1.0, 5.0, 101.0, 9.0, 3.0, 1.0, 4.0, 3.0, 1.0, 10.0, 17.0, 1.0, 1.0, 40.0, 1.0, 8.0, 1.0, 3.0, 9.0, 21.0, 1.0, 3.0, 76.0, 7.0, 1.0, 1.0, 3.0, 1.0, 2.0, 101.0, 1.0, 51.0, 1.0, 101.0, 1.0, 13.0, 13.0, 13.0, 12.0, 2.0, 1.0, 4.0], \"yaxis\": \"y\", \"type\": \"histogram2dcontour\", \"uid\": \"9146a2a3-1823-4983-9ca5-3302a70eac0e\"}, {\"hovertemplate\": \"<b>LOWESS trendline</b><br><br>show=goldbergs <br>year=%{x}<br>Highest_rank=%{y} <b>(trend)</b><extra></extra>\", \"legendgroup\": \"show=goldbergs \", \"line\": {\"color\": \"#EF553B\"}, \"mode\": \"lines\", \"name\": \"show=goldbergs \", \"showlegend\": false, \"x\": [1976.0, 1977.0, 1978.0, 1980.0, 1980.0, 1980.0, 1981.0, 1981.0, 1982.0, 1982.0, 1983.0, 1983.0, 1983.0, 1983.0, 1984.0, 1984.0, 1984.0, 1984.0, 1984.0, 1984.0, 1985.0, 1985.0, 1985.0, 1985.0, 1985.0, 1985.0, 1985.0, 1985.0, 1986.0, 1986.0, 1986.0, 1986.0, 1986.0, 1986.0, 1986.0, 1987.0, 1987.0, 1987.0, 1987.0, 1987.0, 1987.0, 1987.0, 1987.0, 1987.0, 1987.0, 1987.0, 1988.0, 1988.0, 1989.0, 1989.0, 1989.0], \"xaxis\": \"x\", \"y\": [9.30778841699872, 8.541618477494577, 7.801848397694411, 6.185788671666964, 6.185788671666964, 6.185788671666964, 5.544234238188864, 5.544234238188864, 5.4805670518650125, 5.4805670518650125, 4.884439873216058, 4.884439873216058, 4.884439873216058, 4.884439873216058, 5.231559388975472, 5.231559388975472, 5.231559388975472, 5.231559388975472, 5.231559388975472, 5.231559388975472, 3.7946538461339965, 3.7946538461339965, 3.7946538461339965, 3.7946538461339965, 3.7946538461339965, 3.7946538461339965, 3.7946538461339965, 3.7946538461339965, 3.055158557215382, 3.055158557215382, 3.055158557215382, 3.055158557215382, 3.055158557215382, 3.055158557215382, 3.055158557215382, 3.1953618270561273, 3.1953618270561273, 3.1953618270561273, 3.1953618270561273, 3.1953618270561273, 3.1953618270561273, 3.1953618270561273, 3.1953618270561273, 3.1953618270561273, 3.1953618270561273, 3.1953618270561273, 2.889456579942915, 2.889456579942915, 2.6914061211147646, 2.6914061211147646, 2.6914061211147646], \"yaxis\": \"y\", \"type\": \"scatter\", \"uid\": \"fdffcf43-ee1f-4c00-a1cd-49784498cd43\"}, {\"contours\": {\"coloring\": \"none\"}, \"legendgroup\": \"show=stranger things \", \"line\": {\"color\": \"#00cc96\"}, \"name\": \"show=stranger things \", \"showlegend\": true, \"x\": [1982, 1988, 2013, 1978, 1982, 1982, 1987, 1981, 2010, 1995, 1982, 1985, 1986, 1984, 1983, 1981, 1996, 1984, 1995, 1980, 1985, 1983, 1983, 1984, 1980, 1985, 1983, 1983, 1981, 2015, 1984, 1984, 1984, 1985, 1984, 1981, 1983, 2011, 1981, 1985, 1985, 1984, 1982, 1981, 1993, 1984, 1984, 1993, 1984, 2015, 1979, 1981, 1983, 1983, 1982, 1983, 1984, 1983, 1983, 1983, 1983], \"xaxis\": \"x\", \"y\": [1.0, 101.0, 101.0, 59.0, 45.0, 76.0, 2.0, 2.0, 101.0, 101.0, 45.0, 101.0, 101.0, 101.0, 7.0, 101.0, 101.0, 101.0, 101.0, 14.0, 85.0, 3.0, 25.0, 1.0, 86.0, 101.0, 101.0, 101.0, 101.0, 101.0, 1.0, 101.0, 59.0, 101.0, 101.0, 101.0, 101.0, 101.0, 101.0, 101.0, 101.0, 101.0, 101.0, 101.0, 101.0, 101.0, 12.0, 101.0, 39.0, 101.0, 101.0, 101.0, 37.0, 101.0, 45.0, 101.0, 101.0, 5.0, 5.0, 1.0, 1.0], \"yaxis\": \"y\", \"type\": \"histogram2dcontour\", \"uid\": \"316e4d71-37d2-472f-8cb4-297e3b66dcac\"}, {\"hovertemplate\": \"<b>LOWESS trendline</b><br><br>show=stranger things <br>year=%{x}<br>Highest_rank=%{y} <b>(trend)</b><extra></extra>\", \"legendgroup\": \"show=stranger things \", \"line\": {\"color\": \"#00cc96\"}, \"mode\": \"lines\", \"name\": \"show=stranger things \", \"showlegend\": false, \"x\": [1978.0, 1979.0, 1980.0, 1980.0, 1981.0, 1981.0, 1981.0, 1981.0, 1981.0, 1981.0, 1981.0, 1982.0, 1982.0, 1982.0, 1982.0, 1982.0, 1982.0, 1983.0, 1983.0, 1983.0, 1983.0, 1983.0, 1983.0, 1983.0, 1983.0, 1983.0, 1983.0, 1983.0, 1983.0, 1983.0, 1984.0, 1984.0, 1984.0, 1984.0, 1984.0, 1984.0, 1984.0, 1984.0, 1984.0, 1984.0, 1984.0, 1984.0, 1985.0, 1985.0, 1985.0, 1985.0, 1985.0, 1985.0, 1986.0, 1987.0, 1988.0, 1993.0, 1993.0, 1995.0, 1995.0, 1996.0, 2010.0, 2011.0, 2013.0, 2015.0, 2015.0], \"xaxis\": \"x\", \"y\": [84.29478904658761, 82.80064203390732, 80.63337466484832, 80.63337466484832, 76.38807965092222, 76.38807965092222, 76.38807965092222, 76.38807965092222, 76.38807965092222, 76.38807965092222, 76.38807965092222, 63.67506070308304, 63.67506070308304, 63.67506070308304, 63.67506070308304, 63.67506070308304, 63.67506070308304, 54.2053974492591, 54.2053974492591, 54.2053974492591, 54.2053974492591, 54.2053974492591, 54.2053974492591, 54.2053974492591, 54.2053974492591, 54.2053974492591, 54.2053974492591, 54.2053974492591, 54.2053974492591, 54.2053974492591, 73.18560977401215, 73.18560977401215, 73.18560977401215, 73.18560977401215, 73.18560977401215, 73.18560977401215, 73.18560977401215, 73.18560977401215, 73.18560977401215, 73.18560977401215, 73.18560977401215, 73.18560977401215, 91.5034067189455, 91.5034067189455, 91.5034067189455, 91.5034067189455, 91.5034067189455, 91.5034067189455, 93.01500247524949, 97.25343051277022, 96.28042274126804, 98.54811955329873, 98.54811955329873, 101.91690848435891, 101.91690848435891, 103.56218130448408, 100.96990647958935, 101.03386192132626, 101.1506865555101, 101.25495543184034, 101.25495543184034], \"yaxis\": \"y\", \"type\": \"scatter\", \"uid\": \"4ebf5ac8-b4ae-47b8-9edc-fd318a2aa595\"}], {\"height\": 600, \"legend\": {\"tracegroupgap\": 0}, \"margin\": {\"t\": 60}, \"template\": {\"data\": {\"barpolar\": [{\"marker\": {\"line\": {\"color\": \"#E5ECF6\", \"width\": 0.5}}, \"type\": \"barpolar\"}], \"bar\": [{\"marker\": {\"line\": {\"color\": \"#E5ECF6\", \"width\": 0.5}}, \"type\": \"bar\"}], \"carpet\": [{\"aaxis\": {\"endlinecolor\": \"#2a3f5f\", \"gridcolor\": \"white\", \"linecolor\": \"white\", \"minorgridcolor\": \"white\", \"startlinecolor\": \"#2a3f5f\"}, \"baxis\": {\"endlinecolor\": \"#2a3f5f\", \"gridcolor\": \"white\", \"linecolor\": \"white\", \"minorgridcolor\": \"white\", \"startlinecolor\": \"#2a3f5f\"}, \"type\": \"carpet\"}], \"choropleth\": [{\"colorbar\": {\"outlinewidth\": 0, \"ticks\": \"\"}, \"type\": \"choropleth\"}], \"contourcarpet\": [{\"colorbar\": {\"outlinewidth\": 0, \"ticks\": \"\"}, \"type\": \"contourcarpet\"}], \"contour\": [{\"autocolorscale\": true, \"colorbar\": {\"outlinewidth\": 0, \"ticks\": \"\"}, \"type\": \"contour\"}], \"heatmapgl\": [{\"colorbar\": {\"outlinewidth\": 0, \"ticks\": \"\"}, \"type\": \"heatmapgl\"}], \"heatmap\": [{\"autocolorscale\": true, \"colorbar\": {\"outlinewidth\": 0, \"ticks\": \"\"}, \"type\": \"heatmap\"}], \"histogram2dcontour\": [{\"autocolorscale\": true, \"colorbar\": {\"outlinewidth\": 0, \"ticks\": \"\"}, \"type\": \"histogram2dcontour\"}], \"histogram2d\": [{\"autocolorscale\": true, \"colorbar\": {\"outlinewidth\": 0, \"ticks\": \"\"}, \"type\": \"histogram2d\"}], \"histogram\": [{\"marker\": {\"colorbar\": {\"outlinewidth\": 0, \"ticks\": \"\"}}, \"type\": \"histogram\"}], \"mesh3d\": [{\"colorbar\": {\"outlinewidth\": 0, \"ticks\": \"\"}, \"type\": \"mesh3d\"}], \"parcoords\": [{\"line\": {\"colorbar\": {\"outlinewidth\": 0, \"ticks\": \"\"}}, \"type\": \"parcoords\"}], \"scatter3d\": [{\"marker\": {\"colorbar\": {\"outlinewidth\": 0, \"ticks\": \"\"}}, \"type\": \"scatter3d\"}], \"scattercarpet\": [{\"marker\": {\"colorbar\": {\"outlinewidth\": 0, \"ticks\": \"\"}}, \"type\": \"scattercarpet\"}], \"scattergeo\": [{\"marker\": {\"colorbar\": {\"outlinewidth\": 0, \"ticks\": \"\"}}, \"type\": \"scattergeo\"}], \"scattergl\": [{\"marker\": {\"colorbar\": {\"outlinewidth\": 0, \"ticks\": \"\"}}, \"type\": \"scattergl\"}], \"scattermapbox\": [{\"marker\": {\"colorbar\": {\"outlinewidth\": 0, \"ticks\": \"\"}}, \"type\": \"scattermapbox\"}], \"scatterpolargl\": [{\"marker\": {\"colorbar\": {\"outlinewidth\": 0, \"ticks\": \"\"}}, \"type\": \"scatterpolargl\"}], \"scatterpolar\": [{\"marker\": {\"colorbar\": {\"outlinewidth\": 0, \"ticks\": \"\"}}, \"type\": \"scatterpolar\"}], \"scatter\": [{\"marker\": {\"colorbar\": {\"outlinewidth\": 0, \"ticks\": \"\"}}, \"type\": \"scatter\"}], \"scatterternary\": [{\"marker\": {\"colorbar\": {\"outlinewidth\": 0, \"ticks\": \"\"}}, \"type\": \"scatterternary\"}], \"surface\": [{\"colorbar\": {\"outlinewidth\": 0, \"ticks\": \"\"}, \"type\": \"surface\"}], \"table\": [{\"cells\": {\"fill\": {\"color\": \"#EBF0F8\"}, \"line\": {\"color\": \"white\"}}, \"header\": {\"fill\": {\"color\": \"#C8D4E3\"}, \"line\": {\"color\": \"white\"}}, \"type\": \"table\"}]}, \"layout\": {\"annotationdefaults\": {\"arrowcolor\": \"#506784\", \"arrowhead\": 0, \"arrowwidth\": 1}, \"colorscale\": {\"diverging\": [[0, \"#8e0152\"], [0.1, \"#c51b7d\"], [0.2, \"#de77ae\"], [0.3, \"#f1b6da\"], [0.4, \"#fde0ef\"], [0.5, \"#f7f7f7\"], [0.6, \"#e6f5d0\"], [0.7, \"#b8e186\"], [0.8, \"#7fbc41\"], [0.9, \"#4d9221\"], [1, \"#276419\"]], \"sequential\": [[0.0, \"#0508b8\"], [0.0893854748603352, \"#1910d8\"], [0.1787709497206704, \"#3c19f0\"], [0.2681564245810056, \"#6b1cfb\"], [0.3575418994413408, \"#981cfd\"], [0.44692737430167595, \"#bf1cfd\"], [0.5363128491620112, \"#dd2bfd\"], [0.6256983240223464, \"#f246fe\"], [0.7150837988826816, \"#fc67fd\"], [0.8044692737430168, \"#fe88fc\"], [0.8938547486033519, \"#fea5fd\"], [0.9832402234636871, \"#febefe\"], [1.0, \"#fec3fe\"]], \"sequentialminus\": [[0.0, \"#0508b8\"], [0.0893854748603352, \"#1910d8\"], [0.1787709497206704, \"#3c19f0\"], [0.2681564245810056, \"#6b1cfb\"], [0.3575418994413408, \"#981cfd\"], [0.44692737430167595, \"#bf1cfd\"], [0.5363128491620112, \"#dd2bfd\"], [0.6256983240223464, \"#f246fe\"], [0.7150837988826816, \"#fc67fd\"], [0.8044692737430168, \"#fe88fc\"], [0.8938547486033519, \"#fea5fd\"], [0.9832402234636871, \"#febefe\"], [1.0, \"#fec3fe\"]]}, \"colorway\": [\"#636efa\", \"#EF553B\", \"#00cc96\", \"#ab63fa\", \"#19d3f3\", \"#e763fa\", \"#FECB52\", \"#FFA15A\", \"#FF6692\", \"#B6E880\"], \"font\": {\"color\": \"#2a3f5f\"}, \"geo\": {\"bgcolor\": \"white\", \"lakecolor\": \"white\", \"landcolor\": \"#E5ECF6\", \"showlakes\": true, \"showland\": true, \"subunitcolor\": \"white\"}, \"hovermode\": \"closest\", \"mapbox\": {\"style\": \"light\"}, \"paper_bgcolor\": \"white\", \"plot_bgcolor\": \"#E5ECF6\", \"polar\": {\"angularaxis\": {\"gridcolor\": \"white\", \"linecolor\": \"white\", \"ticks\": \"\"}, \"bgcolor\": \"#E5ECF6\", \"radialaxis\": {\"gridcolor\": \"white\", \"linecolor\": \"white\", \"ticks\": \"\"}}, \"scene\": {\"xaxis\": {\"backgroundcolor\": \"#E5ECF6\", \"gridcolor\": \"white\", \"gridwidth\": 2, \"linecolor\": \"white\", \"showbackground\": true, \"ticks\": \"\", \"zerolinecolor\": \"white\"}, \"yaxis\": {\"backgroundcolor\": \"#E5ECF6\", \"gridcolor\": \"white\", \"gridwidth\": 2, \"linecolor\": \"white\", \"showbackground\": true, \"ticks\": \"\", \"zerolinecolor\": \"white\"}, \"zaxis\": {\"backgroundcolor\": \"#E5ECF6\", \"gridcolor\": \"white\", \"gridwidth\": 2, \"linecolor\": \"white\", \"showbackground\": true, \"ticks\": \"\", \"zerolinecolor\": \"white\"}}, \"shapedefaults\": {\"fillcolor\": \"#506784\", \"line\": {\"width\": 0}, \"opacity\": 0.4}, \"ternary\": {\"aaxis\": {\"gridcolor\": \"white\", \"linecolor\": \"white\", \"ticks\": \"\"}, \"baxis\": {\"gridcolor\": \"white\", \"linecolor\": \"white\", \"ticks\": \"\"}, \"bgcolor\": \"#E5ECF6\", \"caxis\": {\"gridcolor\": \"white\", \"linecolor\": \"white\", \"ticks\": \"\"}}, \"title\": {\"x\": 0.05}, \"xaxis\": {\"automargin\": true, \"gridcolor\": \"white\", \"linecolor\": \"white\", \"ticks\": \"\", \"zerolinecolor\": \"white\", \"zerolinewidth\": 2}, \"yaxis\": {\"automargin\": true, \"gridcolor\": \"white\", \"linecolor\": \"white\", \"ticks\": \"\", \"zerolinecolor\": \"white\", \"zerolinewidth\": 2}}}, \"grid\": {\"xaxes\": [\"x\"], \"yaxes\": [\"y\"], \"xgap\": 0.1, \"ygap\": 0.1, \"xside\": \"bottom\", \"yside\": \"left\"}, \"yaxis\": {\"title\": {\"text\": \"Highest_rank\"}, \"range\": [117, -8]}, \"xaxis\": {\"title\": {\"text\": \"year\"}}}, {\"showLink\": false, \"linkText\": \"Export to plot.ly\", \"plotlyServerURL\": \"https://plot.ly\"}); \n",
       "}\n",
       "});</script><script type=\"text/javascript\">window.addEventListener(\"resize\", function(){if (document.getElementById(\"41691c3e-31d3-4edd-a1b7-95f9a3857474\")) {window._Plotly.Plots.resize(document.getElementById(\"41691c3e-31d3-4edd-a1b7-95f9a3857474\"));};})</script>"
      ]
     },
     "metadata": {},
     "output_type": "display_data"
    }
   ],
   "source": [
    "import plotly_express as px\n",
    "\n",
    "px.density_contour(df, x=\"year\", y=\"Highest_rank\", color=\"show\", category_orders={'show': ['stranger things', 'goldbergs', 'glow']}, range_y=[117,-8], trendline='lowess')"
   ]
  },
  {
   "cell_type": "code",
   "execution_count": null,
   "metadata": {},
   "outputs": [],
   "source": []
  }
 ],
 "metadata": {
  "kernelspec": {
   "display_name": "Python 3",
   "language": "python",
   "name": "python3"
  },
  "language_info": {
   "codemirror_mode": {
    "name": "ipython",
    "version": 3
   },
   "file_extension": ".py",
   "mimetype": "text/x-python",
   "name": "python",
   "nbconvert_exporter": "python",
   "pygments_lexer": "ipython3",
   "version": "3.7.2"
  }
 },
 "nbformat": 4,
 "nbformat_minor": 2
}
